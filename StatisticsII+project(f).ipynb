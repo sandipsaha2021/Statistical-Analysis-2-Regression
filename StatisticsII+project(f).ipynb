{
 "cells": [
  {
   "cell_type": "markdown",
   "metadata": {},
   "source": [
    "# Predicting prices of Used Cars using Statistical Models (CRISP-DM)"
   ]
  },
  {
   "cell_type": "markdown",
   "metadata": {},
   "source": [
    "# Initial Data Description\n",
    "The file ToyotaCorolla.csv contains data on used cars(ToyotaCorolla) on sale during late summer of 2004 in the Netherlands.It has 1436 records containing details on 38 attributes.The goal is to predict the price of a used Toyota Corolla based on its specification."
   ]
  },
  {
   "cell_type": "markdown",
   "metadata": {},
   "source": [
    "#  Data Source\n",
    "https://www.dataminingbook.com/content/datasets-download-r-and-python-editions"
   ]
  },
  {
   "cell_type": "markdown",
   "metadata": {},
   "source": [
    "# Dataset Information\n",
    "The data description for all the features used are described below:\n",
    "1) ID:The ID number created while preparing the data\n",
    "2) Model: Particular Toyota model or variant of the same model\n",
    "3) Price: price of the manufactured car\n",
    "4) Age_08_04: age of the car as per August 2004\n",
    "5) Mfg_Month: Month of Manufacturing\n",
    "6) Mfg_Year: Year of Manufacturing\n",
    "7) KM: Number of kilometers the car has been driven\n",
    "8) Fuel_type: Whether the car is of Petrol or Diesel type\n",
    "9) HP: Horsepower is the metric used to indicate the power produced by a car's engine \n",
    "10) Color: colors offered by the Manufacturer\n",
    "11) Met_color: whether the car appears to be that of a polished metal\n",
    "12) Automatic: automatic car is an automobile with an automatic transmission that doesn't require a driver to shift gears manually\n",
    "13) CC: refers to cubic centimetres, or the metric measurement of engine capacity\n",
    "14) Doors: Number of doors in the car\n",
    "15) Cylinders: Number of cylinders in the car (A cylinder is a vital part of the engine. It's a chamber where fuel is combusted and power is generated)\n",
    "16) Gears: Number of gears in the car (As you accelerate, the drive gear will apply power to the wheels and progressively shift into higher 'gears' as the engine RPM reaches the desired level)\n",
    "17) Quaterly_Tax: Tax expenses for quaterly basis (euro)\n",
    "18) Weight: weight of the car (kg)\n",
    "19) Mfr_Guarantee: if the car has guarantee or not\n",
    "20) BOVAG_Guarantee: happens to be a kind of guarantee\n",
    "21) Guarantee_Period: years of guarantee\n",
    "22) ABS: ABS or an Anti-Lock Braking System is a piece of safety equipment that prevents the wheels of a vehicle from locking up under emergency\n",
    "23) Airbag_1: airbags in the front\n",
    "24) Airbag_2: airbags available in the backend\n",
    "25) Airco: if the car has aircondition feature\n",
    "26) Automatic_airco: if the car has automatic aircondition facility\n",
    "27) BoardComputer: board computer continuously informs the driver by specific displays on the instrument panel about the current or average fuel consumption\n",
    "28) CD_player: if the car supports CD player option\n",
    "29) Central_lock: allow the driver or front passenger to simultaneously lock or unlock all the doors of an automobile\n",
    "30) Powered_windows: The windows on cars which can be opened or shut with the help of buttons\n",
    "31) Power_Steering: power-assisted steering is a system for steering that uses power from the engine so that it is easier for the driver to steer the vehicle\n",
    "32) Radio: it is the brains and command center for a car's audio system\n",
    "33) Mistlamps: Fog lights are designed to be used at low speed in fog, heavy mist, snow and other poor-visibility situations\n",
    "34) Sport_Model: A sports car is a car designed with an emphasis on dynamic performance, such as handling, acceleration, top speed, or thrill of driving\n",
    "35) Backseat_Divider: a removable seat designed to hold a small child safely while riding in an automobile\n",
    "36) Metallic_Rim: The rim is the \"outer edge of a wheel, holding the tire\"\n",
    "37) Radio_cassette: an analog magnetic tape recording format for audio recording and playback\n",
    "38) Parking_Assistant: Park Assist is an automated parking aid that helps drivers park with greater precision\n",
    "39) Tow_Bar: a metal bar on the back of a vehicle that is used for towing something\n"
   ]
  },
  {
   "cell_type": "markdown",
   "metadata": {},
   "source": [
    "# Business Problem\n",
    "Predicting the price of a car is an important and interesting problem at this juncture and this is also relevant for a developing country like India. In many developed countries, it is common to lease a car rather than buying it outright. A lease is a binding contract between a buyer and a seller(or a third party –usually a bank, insurance firm or other financial institutions) in which the buyer mustpay fixed instalments for a predefined number of months/years to the seller/financer.After the lease period is over, the buyer has the possibility to buy the car at its residualvalue, i.e. its expected resale value. Thus, it is of commercial interest to seller/financers to be able to predict the salvage value (residual value) of cars with accuracy.Now two things can occurr from the business perspective of used cars:\n",
    "\n",
    "1) If the residual value is under-estimated by the seller/financer at the beginning, the instalments will be higher for the clients who will certainly then opt foranother seller/financer.\n",
    "2)  If the residual value is over-estimated, the instalments will belower for the clients but then the seller/financer may have much difficulty at selling these high-priced used cars at this over-estimated residual value.\n",
    "\n",
    "Thus, we can see that estimating the price of used cars is of very high commercial importance as well.Manufacturers’ from Germany made a loss of 1 billion Euros in their USA marketbecause of mis-calculating the residual value of leased cars. "
   ]
  },
  {
   "cell_type": "markdown",
   "metadata": {},
   "source": [
    "# Project Objective\n",
    "To predict the price of used car using Regresion Algorithms (Multiple Linear Regression,Ridge Regression,LASSO) "
   ]
  },
  {
   "cell_type": "code",
   "execution_count": 1,
   "metadata": {},
   "outputs": [
    {
     "data": {
      "text/html": [
       "<div>\n",
       "<style scoped>\n",
       "    .dataframe tbody tr th:only-of-type {\n",
       "        vertical-align: middle;\n",
       "    }\n",
       "\n",
       "    .dataframe tbody tr th {\n",
       "        vertical-align: top;\n",
       "    }\n",
       "\n",
       "    .dataframe thead th {\n",
       "        text-align: right;\n",
       "    }\n",
       "</style>\n",
       "<table border=\"1\" class=\"dataframe\">\n",
       "  <thead>\n",
       "    <tr style=\"text-align: right;\">\n",
       "      <th></th>\n",
       "      <th>Id</th>\n",
       "      <th>Model</th>\n",
       "      <th>Price</th>\n",
       "      <th>Age_08_04</th>\n",
       "      <th>Mfg_Month</th>\n",
       "      <th>Mfg_Year</th>\n",
       "      <th>KM</th>\n",
       "      <th>Fuel_Type</th>\n",
       "      <th>HP</th>\n",
       "      <th>Met_Color</th>\n",
       "      <th>...</th>\n",
       "      <th>Powered_Windows</th>\n",
       "      <th>Power_Steering</th>\n",
       "      <th>Radio</th>\n",
       "      <th>Mistlamps</th>\n",
       "      <th>Sport_Model</th>\n",
       "      <th>Backseat_Divider</th>\n",
       "      <th>Metallic_Rim</th>\n",
       "      <th>Radio_cassette</th>\n",
       "      <th>Parking_Assistant</th>\n",
       "      <th>Tow_Bar</th>\n",
       "    </tr>\n",
       "  </thead>\n",
       "  <tbody>\n",
       "    <tr>\n",
       "      <th>0</th>\n",
       "      <td>1</td>\n",
       "      <td>TOYOTA Corolla 2.0 D4D HATCHB TERRA 2/3-Doors</td>\n",
       "      <td>13500</td>\n",
       "      <td>23</td>\n",
       "      <td>10</td>\n",
       "      <td>2002</td>\n",
       "      <td>46986</td>\n",
       "      <td>Diesel</td>\n",
       "      <td>90</td>\n",
       "      <td>1</td>\n",
       "      <td>...</td>\n",
       "      <td>1</td>\n",
       "      <td>1</td>\n",
       "      <td>0</td>\n",
       "      <td>0</td>\n",
       "      <td>0</td>\n",
       "      <td>1</td>\n",
       "      <td>0</td>\n",
       "      <td>0</td>\n",
       "      <td>0</td>\n",
       "      <td>0</td>\n",
       "    </tr>\n",
       "    <tr>\n",
       "      <th>1</th>\n",
       "      <td>2</td>\n",
       "      <td>TOYOTA Corolla 2.0 D4D HATCHB TERRA 2/3-Doors</td>\n",
       "      <td>13750</td>\n",
       "      <td>23</td>\n",
       "      <td>10</td>\n",
       "      <td>2002</td>\n",
       "      <td>72937</td>\n",
       "      <td>Diesel</td>\n",
       "      <td>90</td>\n",
       "      <td>1</td>\n",
       "      <td>...</td>\n",
       "      <td>0</td>\n",
       "      <td>1</td>\n",
       "      <td>0</td>\n",
       "      <td>0</td>\n",
       "      <td>0</td>\n",
       "      <td>1</td>\n",
       "      <td>0</td>\n",
       "      <td>0</td>\n",
       "      <td>0</td>\n",
       "      <td>0</td>\n",
       "    </tr>\n",
       "    <tr>\n",
       "      <th>2</th>\n",
       "      <td>3</td>\n",
       "      <td>TOYOTA Corolla 2.0 D4D HATCHB TERRA 2/3-Doors</td>\n",
       "      <td>13950</td>\n",
       "      <td>24</td>\n",
       "      <td>9</td>\n",
       "      <td>2002</td>\n",
       "      <td>41711</td>\n",
       "      <td>Diesel</td>\n",
       "      <td>90</td>\n",
       "      <td>1</td>\n",
       "      <td>...</td>\n",
       "      <td>0</td>\n",
       "      <td>1</td>\n",
       "      <td>0</td>\n",
       "      <td>0</td>\n",
       "      <td>0</td>\n",
       "      <td>1</td>\n",
       "      <td>0</td>\n",
       "      <td>0</td>\n",
       "      <td>0</td>\n",
       "      <td>0</td>\n",
       "    </tr>\n",
       "    <tr>\n",
       "      <th>3</th>\n",
       "      <td>4</td>\n",
       "      <td>TOYOTA Corolla 2.0 D4D HATCHB TERRA 2/3-Doors</td>\n",
       "      <td>14950</td>\n",
       "      <td>26</td>\n",
       "      <td>7</td>\n",
       "      <td>2002</td>\n",
       "      <td>48000</td>\n",
       "      <td>Diesel</td>\n",
       "      <td>90</td>\n",
       "      <td>0</td>\n",
       "      <td>...</td>\n",
       "      <td>0</td>\n",
       "      <td>1</td>\n",
       "      <td>0</td>\n",
       "      <td>0</td>\n",
       "      <td>0</td>\n",
       "      <td>1</td>\n",
       "      <td>0</td>\n",
       "      <td>0</td>\n",
       "      <td>0</td>\n",
       "      <td>0</td>\n",
       "    </tr>\n",
       "    <tr>\n",
       "      <th>4</th>\n",
       "      <td>5</td>\n",
       "      <td>TOYOTA Corolla 2.0 D4D HATCHB SOL 2/3-Doors</td>\n",
       "      <td>13750</td>\n",
       "      <td>30</td>\n",
       "      <td>3</td>\n",
       "      <td>2002</td>\n",
       "      <td>38500</td>\n",
       "      <td>Diesel</td>\n",
       "      <td>90</td>\n",
       "      <td>0</td>\n",
       "      <td>...</td>\n",
       "      <td>1</td>\n",
       "      <td>1</td>\n",
       "      <td>0</td>\n",
       "      <td>1</td>\n",
       "      <td>0</td>\n",
       "      <td>1</td>\n",
       "      <td>0</td>\n",
       "      <td>0</td>\n",
       "      <td>0</td>\n",
       "      <td>0</td>\n",
       "    </tr>\n",
       "  </tbody>\n",
       "</table>\n",
       "<p>5 rows × 39 columns</p>\n",
       "</div>"
      ],
      "text/plain": [
       "   Id                                          Model  Price  Age_08_04  \\\n",
       "0   1  TOYOTA Corolla 2.0 D4D HATCHB TERRA 2/3-Doors  13500         23   \n",
       "1   2  TOYOTA Corolla 2.0 D4D HATCHB TERRA 2/3-Doors  13750         23   \n",
       "2   3  TOYOTA Corolla 2.0 D4D HATCHB TERRA 2/3-Doors  13950         24   \n",
       "3   4  TOYOTA Corolla 2.0 D4D HATCHB TERRA 2/3-Doors  14950         26   \n",
       "4   5    TOYOTA Corolla 2.0 D4D HATCHB SOL 2/3-Doors  13750         30   \n",
       "\n",
       "   Mfg_Month  Mfg_Year     KM Fuel_Type  HP  Met_Color  ... Powered_Windows  \\\n",
       "0         10      2002  46986    Diesel  90          1  ...               1   \n",
       "1         10      2002  72937    Diesel  90          1  ...               0   \n",
       "2          9      2002  41711    Diesel  90          1  ...               0   \n",
       "3          7      2002  48000    Diesel  90          0  ...               0   \n",
       "4          3      2002  38500    Diesel  90          0  ...               1   \n",
       "\n",
       "   Power_Steering  Radio  Mistlamps  Sport_Model  Backseat_Divider  \\\n",
       "0               1      0          0            0                 1   \n",
       "1               1      0          0            0                 1   \n",
       "2               1      0          0            0                 1   \n",
       "3               1      0          0            0                 1   \n",
       "4               1      0          1            0                 1   \n",
       "\n",
       "   Metallic_Rim  Radio_cassette  Parking_Assistant  Tow_Bar  \n",
       "0             0               0                  0        0  \n",
       "1             0               0                  0        0  \n",
       "2             0               0                  0        0  \n",
       "3             0               0                  0        0  \n",
       "4             0               0                  0        0  \n",
       "\n",
       "[5 rows x 39 columns]"
      ]
     },
     "execution_count": 1,
     "metadata": {},
     "output_type": "execute_result"
    }
   ],
   "source": [
    "import pandas as pd\n",
    "import numpy as np\n",
    "import seaborn as sns\n",
    "import matplotlib.pyplot as plt\n",
    "car_df=pd.read_csv('C:\\data\\ToyotaCorolla.csv')\n",
    "car_df.head()"
   ]
  },
  {
   "cell_type": "code",
   "execution_count": 2,
   "metadata": {},
   "outputs": [
    {
     "name": "stdout",
     "output_type": "stream",
     "text": [
      "(1436, 39)\n"
     ]
    },
    {
     "data": {
      "text/plain": [
       "Index(['Id', 'Model', 'Price', 'Age_08_04', 'Mfg_Month', 'Mfg_Year', 'KM',\n",
       "       'Fuel_Type', 'HP', 'Met_Color', 'Color', 'Automatic', 'CC', 'Doors',\n",
       "       'Cylinders', 'Gears', 'Quarterly_Tax', 'Weight', 'Mfr_Guarantee',\n",
       "       'BOVAG_Guarantee', 'Guarantee_Period', 'ABS', 'Airbag_1', 'Airbag_2',\n",
       "       'Airco', 'Automatic_airco', 'Boardcomputer', 'CD_Player',\n",
       "       'Central_Lock', 'Powered_Windows', 'Power_Steering', 'Radio',\n",
       "       'Mistlamps', 'Sport_Model', 'Backseat_Divider', 'Metallic_Rim',\n",
       "       'Radio_cassette', 'Parking_Assistant', 'Tow_Bar'],\n",
       "      dtype='object')"
      ]
     },
     "execution_count": 2,
     "metadata": {},
     "output_type": "execute_result"
    }
   ],
   "source": [
    "print(car_df.shape)\n",
    "car_df.columns"
   ]
  },
  {
   "cell_type": "code",
   "execution_count": 3,
   "metadata": {},
   "outputs": [
    {
     "name": "stdout",
     "output_type": "stream",
     "text": [
      "(1436, 38)\n"
     ]
    }
   ],
   "source": [
    "car_df.drop(['Id'],axis=1,inplace=True)     # Id column is of no importance\n",
    "print(car_df.shape)"
   ]
  },
  {
   "cell_type": "markdown",
   "metadata": {},
   "source": [
    "# output the summary"
   ]
  },
  {
   "cell_type": "code",
   "execution_count": 4,
   "metadata": {},
   "outputs": [
    {
     "data": {
      "text/plain": [
       "Model                object\n",
       "Price                 int64\n",
       "Age_08_04             int64\n",
       "Mfg_Month             int64\n",
       "Mfg_Year              int64\n",
       "KM                    int64\n",
       "Fuel_Type            object\n",
       "HP                    int64\n",
       "Met_Color             int64\n",
       "Color                object\n",
       "Automatic             int64\n",
       "CC                    int64\n",
       "Doors                 int64\n",
       "Cylinders             int64\n",
       "Gears                 int64\n",
       "Quarterly_Tax         int64\n",
       "Weight                int64\n",
       "Mfr_Guarantee         int64\n",
       "BOVAG_Guarantee       int64\n",
       "Guarantee_Period      int64\n",
       "ABS                   int64\n",
       "Airbag_1              int64\n",
       "Airbag_2              int64\n",
       "Airco                 int64\n",
       "Automatic_airco       int64\n",
       "Boardcomputer         int64\n",
       "CD_Player             int64\n",
       "Central_Lock          int64\n",
       "Powered_Windows       int64\n",
       "Power_Steering        int64\n",
       "Radio                 int64\n",
       "Mistlamps             int64\n",
       "Sport_Model           int64\n",
       "Backseat_Divider      int64\n",
       "Metallic_Rim          int64\n",
       "Radio_cassette        int64\n",
       "Parking_Assistant     int64\n",
       "Tow_Bar               int64\n",
       "dtype: object"
      ]
     },
     "execution_count": 4,
     "metadata": {},
     "output_type": "execute_result"
    }
   ],
   "source": [
    "car_df.dtypes"
   ]
  },
  {
   "cell_type": "code",
   "execution_count": 5,
   "metadata": {},
   "outputs": [
    {
     "data": {
      "text/plain": [
       "Model                 319\n",
       "Price                 236\n",
       "Age_08_04              77\n",
       "Mfg_Month              12\n",
       "Mfg_Year                7\n",
       "KM                   1263\n",
       "Fuel_Type               3\n",
       "HP                     12\n",
       "Met_Color               2\n",
       "Color                  10\n",
       "Automatic               2\n",
       "CC                     13\n",
       "Doors                   4\n",
       "Cylinders               1\n",
       "Gears                   4\n",
       "Quarterly_Tax          13\n",
       "Weight                 59\n",
       "Mfr_Guarantee           2\n",
       "BOVAG_Guarantee         2\n",
       "Guarantee_Period        9\n",
       "ABS                     2\n",
       "Airbag_1                2\n",
       "Airbag_2                2\n",
       "Airco                   2\n",
       "Automatic_airco         2\n",
       "Boardcomputer           2\n",
       "CD_Player               2\n",
       "Central_Lock            2\n",
       "Powered_Windows         2\n",
       "Power_Steering          2\n",
       "Radio                   2\n",
       "Mistlamps               2\n",
       "Sport_Model             2\n",
       "Backseat_Divider        2\n",
       "Metallic_Rim            2\n",
       "Radio_cassette          2\n",
       "Parking_Assistant       2\n",
       "Tow_Bar                 2\n",
       "dtype: int64"
      ]
     },
     "execution_count": 5,
     "metadata": {},
     "output_type": "execute_result"
    }
   ],
   "source": [
    "car_df.nunique()"
   ]
  },
  {
   "cell_type": "code",
   "execution_count": 6,
   "metadata": {},
   "outputs": [
    {
     "data": {
      "text/html": [
       "<div>\n",
       "<style scoped>\n",
       "    .dataframe tbody tr th:only-of-type {\n",
       "        vertical-align: middle;\n",
       "    }\n",
       "\n",
       "    .dataframe tbody tr th {\n",
       "        vertical-align: top;\n",
       "    }\n",
       "\n",
       "    .dataframe thead th {\n",
       "        text-align: right;\n",
       "    }\n",
       "</style>\n",
       "<table border=\"1\" class=\"dataframe\">\n",
       "  <thead>\n",
       "    <tr style=\"text-align: right;\">\n",
       "      <th></th>\n",
       "      <th>count</th>\n",
       "      <th>mean</th>\n",
       "      <th>std</th>\n",
       "      <th>min</th>\n",
       "      <th>25%</th>\n",
       "      <th>50%</th>\n",
       "      <th>75%</th>\n",
       "      <th>max</th>\n",
       "    </tr>\n",
       "  </thead>\n",
       "  <tbody>\n",
       "    <tr>\n",
       "      <th>Price</th>\n",
       "      <td>1436.0</td>\n",
       "      <td>10730.824513</td>\n",
       "      <td>3626.964585</td>\n",
       "      <td>4350.0</td>\n",
       "      <td>8450.0</td>\n",
       "      <td>9900.0</td>\n",
       "      <td>11950.00</td>\n",
       "      <td>32500.0</td>\n",
       "    </tr>\n",
       "    <tr>\n",
       "      <th>Age_08_04</th>\n",
       "      <td>1436.0</td>\n",
       "      <td>55.947075</td>\n",
       "      <td>18.599988</td>\n",
       "      <td>1.0</td>\n",
       "      <td>44.0</td>\n",
       "      <td>61.0</td>\n",
       "      <td>70.00</td>\n",
       "      <td>80.0</td>\n",
       "    </tr>\n",
       "    <tr>\n",
       "      <th>Mfg_Month</th>\n",
       "      <td>1436.0</td>\n",
       "      <td>5.548747</td>\n",
       "      <td>3.354085</td>\n",
       "      <td>1.0</td>\n",
       "      <td>3.0</td>\n",
       "      <td>5.0</td>\n",
       "      <td>8.00</td>\n",
       "      <td>12.0</td>\n",
       "    </tr>\n",
       "    <tr>\n",
       "      <th>Mfg_Year</th>\n",
       "      <td>1436.0</td>\n",
       "      <td>1999.625348</td>\n",
       "      <td>1.540722</td>\n",
       "      <td>1998.0</td>\n",
       "      <td>1998.0</td>\n",
       "      <td>1999.0</td>\n",
       "      <td>2001.00</td>\n",
       "      <td>2004.0</td>\n",
       "    </tr>\n",
       "    <tr>\n",
       "      <th>KM</th>\n",
       "      <td>1436.0</td>\n",
       "      <td>68533.259749</td>\n",
       "      <td>37506.448872</td>\n",
       "      <td>1.0</td>\n",
       "      <td>43000.0</td>\n",
       "      <td>63389.5</td>\n",
       "      <td>87020.75</td>\n",
       "      <td>243000.0</td>\n",
       "    </tr>\n",
       "    <tr>\n",
       "      <th>HP</th>\n",
       "      <td>1436.0</td>\n",
       "      <td>101.502089</td>\n",
       "      <td>14.981080</td>\n",
       "      <td>69.0</td>\n",
       "      <td>90.0</td>\n",
       "      <td>110.0</td>\n",
       "      <td>110.00</td>\n",
       "      <td>192.0</td>\n",
       "    </tr>\n",
       "    <tr>\n",
       "      <th>Met_Color</th>\n",
       "      <td>1436.0</td>\n",
       "      <td>0.674791</td>\n",
       "      <td>0.468616</td>\n",
       "      <td>0.0</td>\n",
       "      <td>0.0</td>\n",
       "      <td>1.0</td>\n",
       "      <td>1.00</td>\n",
       "      <td>1.0</td>\n",
       "    </tr>\n",
       "    <tr>\n",
       "      <th>Automatic</th>\n",
       "      <td>1436.0</td>\n",
       "      <td>0.055710</td>\n",
       "      <td>0.229441</td>\n",
       "      <td>0.0</td>\n",
       "      <td>0.0</td>\n",
       "      <td>0.0</td>\n",
       "      <td>0.00</td>\n",
       "      <td>1.0</td>\n",
       "    </tr>\n",
       "    <tr>\n",
       "      <th>CC</th>\n",
       "      <td>1436.0</td>\n",
       "      <td>1576.855850</td>\n",
       "      <td>424.386770</td>\n",
       "      <td>1300.0</td>\n",
       "      <td>1400.0</td>\n",
       "      <td>1600.0</td>\n",
       "      <td>1600.00</td>\n",
       "      <td>16000.0</td>\n",
       "    </tr>\n",
       "    <tr>\n",
       "      <th>Doors</th>\n",
       "      <td>1436.0</td>\n",
       "      <td>4.033426</td>\n",
       "      <td>0.952677</td>\n",
       "      <td>2.0</td>\n",
       "      <td>3.0</td>\n",
       "      <td>4.0</td>\n",
       "      <td>5.00</td>\n",
       "      <td>5.0</td>\n",
       "    </tr>\n",
       "    <tr>\n",
       "      <th>Cylinders</th>\n",
       "      <td>1436.0</td>\n",
       "      <td>4.000000</td>\n",
       "      <td>0.000000</td>\n",
       "      <td>4.0</td>\n",
       "      <td>4.0</td>\n",
       "      <td>4.0</td>\n",
       "      <td>4.00</td>\n",
       "      <td>4.0</td>\n",
       "    </tr>\n",
       "    <tr>\n",
       "      <th>Gears</th>\n",
       "      <td>1436.0</td>\n",
       "      <td>5.026462</td>\n",
       "      <td>0.188510</td>\n",
       "      <td>3.0</td>\n",
       "      <td>5.0</td>\n",
       "      <td>5.0</td>\n",
       "      <td>5.00</td>\n",
       "      <td>6.0</td>\n",
       "    </tr>\n",
       "    <tr>\n",
       "      <th>Quarterly_Tax</th>\n",
       "      <td>1436.0</td>\n",
       "      <td>87.122563</td>\n",
       "      <td>41.128611</td>\n",
       "      <td>19.0</td>\n",
       "      <td>69.0</td>\n",
       "      <td>85.0</td>\n",
       "      <td>85.00</td>\n",
       "      <td>283.0</td>\n",
       "    </tr>\n",
       "    <tr>\n",
       "      <th>Weight</th>\n",
       "      <td>1436.0</td>\n",
       "      <td>1072.459610</td>\n",
       "      <td>52.641120</td>\n",
       "      <td>1000.0</td>\n",
       "      <td>1040.0</td>\n",
       "      <td>1070.0</td>\n",
       "      <td>1085.00</td>\n",
       "      <td>1615.0</td>\n",
       "    </tr>\n",
       "    <tr>\n",
       "      <th>Mfr_Guarantee</th>\n",
       "      <td>1436.0</td>\n",
       "      <td>0.409471</td>\n",
       "      <td>0.491907</td>\n",
       "      <td>0.0</td>\n",
       "      <td>0.0</td>\n",
       "      <td>0.0</td>\n",
       "      <td>1.00</td>\n",
       "      <td>1.0</td>\n",
       "    </tr>\n",
       "    <tr>\n",
       "      <th>BOVAG_Guarantee</th>\n",
       "      <td>1436.0</td>\n",
       "      <td>0.895543</td>\n",
       "      <td>0.305959</td>\n",
       "      <td>0.0</td>\n",
       "      <td>1.0</td>\n",
       "      <td>1.0</td>\n",
       "      <td>1.00</td>\n",
       "      <td>1.0</td>\n",
       "    </tr>\n",
       "    <tr>\n",
       "      <th>Guarantee_Period</th>\n",
       "      <td>1436.0</td>\n",
       "      <td>3.815460</td>\n",
       "      <td>3.011025</td>\n",
       "      <td>3.0</td>\n",
       "      <td>3.0</td>\n",
       "      <td>3.0</td>\n",
       "      <td>3.00</td>\n",
       "      <td>36.0</td>\n",
       "    </tr>\n",
       "    <tr>\n",
       "      <th>ABS</th>\n",
       "      <td>1436.0</td>\n",
       "      <td>0.813370</td>\n",
       "      <td>0.389750</td>\n",
       "      <td>0.0</td>\n",
       "      <td>1.0</td>\n",
       "      <td>1.0</td>\n",
       "      <td>1.00</td>\n",
       "      <td>1.0</td>\n",
       "    </tr>\n",
       "    <tr>\n",
       "      <th>Airbag_1</th>\n",
       "      <td>1436.0</td>\n",
       "      <td>0.970752</td>\n",
       "      <td>0.168559</td>\n",
       "      <td>0.0</td>\n",
       "      <td>1.0</td>\n",
       "      <td>1.0</td>\n",
       "      <td>1.00</td>\n",
       "      <td>1.0</td>\n",
       "    </tr>\n",
       "    <tr>\n",
       "      <th>Airbag_2</th>\n",
       "      <td>1436.0</td>\n",
       "      <td>0.722841</td>\n",
       "      <td>0.447751</td>\n",
       "      <td>0.0</td>\n",
       "      <td>0.0</td>\n",
       "      <td>1.0</td>\n",
       "      <td>1.00</td>\n",
       "      <td>1.0</td>\n",
       "    </tr>\n",
       "    <tr>\n",
       "      <th>Airco</th>\n",
       "      <td>1436.0</td>\n",
       "      <td>0.508357</td>\n",
       "      <td>0.500104</td>\n",
       "      <td>0.0</td>\n",
       "      <td>0.0</td>\n",
       "      <td>1.0</td>\n",
       "      <td>1.00</td>\n",
       "      <td>1.0</td>\n",
       "    </tr>\n",
       "    <tr>\n",
       "      <th>Automatic_airco</th>\n",
       "      <td>1436.0</td>\n",
       "      <td>0.056407</td>\n",
       "      <td>0.230786</td>\n",
       "      <td>0.0</td>\n",
       "      <td>0.0</td>\n",
       "      <td>0.0</td>\n",
       "      <td>0.00</td>\n",
       "      <td>1.0</td>\n",
       "    </tr>\n",
       "    <tr>\n",
       "      <th>Boardcomputer</th>\n",
       "      <td>1436.0</td>\n",
       "      <td>0.294568</td>\n",
       "      <td>0.456007</td>\n",
       "      <td>0.0</td>\n",
       "      <td>0.0</td>\n",
       "      <td>0.0</td>\n",
       "      <td>1.00</td>\n",
       "      <td>1.0</td>\n",
       "    </tr>\n",
       "    <tr>\n",
       "      <th>CD_Player</th>\n",
       "      <td>1436.0</td>\n",
       "      <td>0.218663</td>\n",
       "      <td>0.413483</td>\n",
       "      <td>0.0</td>\n",
       "      <td>0.0</td>\n",
       "      <td>0.0</td>\n",
       "      <td>0.00</td>\n",
       "      <td>1.0</td>\n",
       "    </tr>\n",
       "    <tr>\n",
       "      <th>Central_Lock</th>\n",
       "      <td>1436.0</td>\n",
       "      <td>0.580084</td>\n",
       "      <td>0.493717</td>\n",
       "      <td>0.0</td>\n",
       "      <td>0.0</td>\n",
       "      <td>1.0</td>\n",
       "      <td>1.00</td>\n",
       "      <td>1.0</td>\n",
       "    </tr>\n",
       "    <tr>\n",
       "      <th>Powered_Windows</th>\n",
       "      <td>1436.0</td>\n",
       "      <td>0.561978</td>\n",
       "      <td>0.496317</td>\n",
       "      <td>0.0</td>\n",
       "      <td>0.0</td>\n",
       "      <td>1.0</td>\n",
       "      <td>1.00</td>\n",
       "      <td>1.0</td>\n",
       "    </tr>\n",
       "    <tr>\n",
       "      <th>Power_Steering</th>\n",
       "      <td>1436.0</td>\n",
       "      <td>0.977716</td>\n",
       "      <td>0.147657</td>\n",
       "      <td>0.0</td>\n",
       "      <td>1.0</td>\n",
       "      <td>1.0</td>\n",
       "      <td>1.00</td>\n",
       "      <td>1.0</td>\n",
       "    </tr>\n",
       "    <tr>\n",
       "      <th>Radio</th>\n",
       "      <td>1436.0</td>\n",
       "      <td>0.146240</td>\n",
       "      <td>0.353469</td>\n",
       "      <td>0.0</td>\n",
       "      <td>0.0</td>\n",
       "      <td>0.0</td>\n",
       "      <td>0.00</td>\n",
       "      <td>1.0</td>\n",
       "    </tr>\n",
       "    <tr>\n",
       "      <th>Mistlamps</th>\n",
       "      <td>1436.0</td>\n",
       "      <td>0.256964</td>\n",
       "      <td>0.437111</td>\n",
       "      <td>0.0</td>\n",
       "      <td>0.0</td>\n",
       "      <td>0.0</td>\n",
       "      <td>1.00</td>\n",
       "      <td>1.0</td>\n",
       "    </tr>\n",
       "    <tr>\n",
       "      <th>Sport_Model</th>\n",
       "      <td>1436.0</td>\n",
       "      <td>0.300139</td>\n",
       "      <td>0.458478</td>\n",
       "      <td>0.0</td>\n",
       "      <td>0.0</td>\n",
       "      <td>0.0</td>\n",
       "      <td>1.00</td>\n",
       "      <td>1.0</td>\n",
       "    </tr>\n",
       "    <tr>\n",
       "      <th>Backseat_Divider</th>\n",
       "      <td>1436.0</td>\n",
       "      <td>0.770195</td>\n",
       "      <td>0.420854</td>\n",
       "      <td>0.0</td>\n",
       "      <td>1.0</td>\n",
       "      <td>1.0</td>\n",
       "      <td>1.00</td>\n",
       "      <td>1.0</td>\n",
       "    </tr>\n",
       "    <tr>\n",
       "      <th>Metallic_Rim</th>\n",
       "      <td>1436.0</td>\n",
       "      <td>0.204735</td>\n",
       "      <td>0.403649</td>\n",
       "      <td>0.0</td>\n",
       "      <td>0.0</td>\n",
       "      <td>0.0</td>\n",
       "      <td>0.00</td>\n",
       "      <td>1.0</td>\n",
       "    </tr>\n",
       "    <tr>\n",
       "      <th>Radio_cassette</th>\n",
       "      <td>1436.0</td>\n",
       "      <td>0.145543</td>\n",
       "      <td>0.352770</td>\n",
       "      <td>0.0</td>\n",
       "      <td>0.0</td>\n",
       "      <td>0.0</td>\n",
       "      <td>0.00</td>\n",
       "      <td>1.0</td>\n",
       "    </tr>\n",
       "    <tr>\n",
       "      <th>Parking_Assistant</th>\n",
       "      <td>1436.0</td>\n",
       "      <td>0.002786</td>\n",
       "      <td>0.052723</td>\n",
       "      <td>0.0</td>\n",
       "      <td>0.0</td>\n",
       "      <td>0.0</td>\n",
       "      <td>0.00</td>\n",
       "      <td>1.0</td>\n",
       "    </tr>\n",
       "    <tr>\n",
       "      <th>Tow_Bar</th>\n",
       "      <td>1436.0</td>\n",
       "      <td>0.277855</td>\n",
       "      <td>0.448098</td>\n",
       "      <td>0.0</td>\n",
       "      <td>0.0</td>\n",
       "      <td>0.0</td>\n",
       "      <td>1.00</td>\n",
       "      <td>1.0</td>\n",
       "    </tr>\n",
       "  </tbody>\n",
       "</table>\n",
       "</div>"
      ],
      "text/plain": [
       "                    count          mean           std     min      25%  \\\n",
       "Price              1436.0  10730.824513   3626.964585  4350.0   8450.0   \n",
       "Age_08_04          1436.0     55.947075     18.599988     1.0     44.0   \n",
       "Mfg_Month          1436.0      5.548747      3.354085     1.0      3.0   \n",
       "Mfg_Year           1436.0   1999.625348      1.540722  1998.0   1998.0   \n",
       "KM                 1436.0  68533.259749  37506.448872     1.0  43000.0   \n",
       "HP                 1436.0    101.502089     14.981080    69.0     90.0   \n",
       "Met_Color          1436.0      0.674791      0.468616     0.0      0.0   \n",
       "Automatic          1436.0      0.055710      0.229441     0.0      0.0   \n",
       "CC                 1436.0   1576.855850    424.386770  1300.0   1400.0   \n",
       "Doors              1436.0      4.033426      0.952677     2.0      3.0   \n",
       "Cylinders          1436.0      4.000000      0.000000     4.0      4.0   \n",
       "Gears              1436.0      5.026462      0.188510     3.0      5.0   \n",
       "Quarterly_Tax      1436.0     87.122563     41.128611    19.0     69.0   \n",
       "Weight             1436.0   1072.459610     52.641120  1000.0   1040.0   \n",
       "Mfr_Guarantee      1436.0      0.409471      0.491907     0.0      0.0   \n",
       "BOVAG_Guarantee    1436.0      0.895543      0.305959     0.0      1.0   \n",
       "Guarantee_Period   1436.0      3.815460      3.011025     3.0      3.0   \n",
       "ABS                1436.0      0.813370      0.389750     0.0      1.0   \n",
       "Airbag_1           1436.0      0.970752      0.168559     0.0      1.0   \n",
       "Airbag_2           1436.0      0.722841      0.447751     0.0      0.0   \n",
       "Airco              1436.0      0.508357      0.500104     0.0      0.0   \n",
       "Automatic_airco    1436.0      0.056407      0.230786     0.0      0.0   \n",
       "Boardcomputer      1436.0      0.294568      0.456007     0.0      0.0   \n",
       "CD_Player          1436.0      0.218663      0.413483     0.0      0.0   \n",
       "Central_Lock       1436.0      0.580084      0.493717     0.0      0.0   \n",
       "Powered_Windows    1436.0      0.561978      0.496317     0.0      0.0   \n",
       "Power_Steering     1436.0      0.977716      0.147657     0.0      1.0   \n",
       "Radio              1436.0      0.146240      0.353469     0.0      0.0   \n",
       "Mistlamps          1436.0      0.256964      0.437111     0.0      0.0   \n",
       "Sport_Model        1436.0      0.300139      0.458478     0.0      0.0   \n",
       "Backseat_Divider   1436.0      0.770195      0.420854     0.0      1.0   \n",
       "Metallic_Rim       1436.0      0.204735      0.403649     0.0      0.0   \n",
       "Radio_cassette     1436.0      0.145543      0.352770     0.0      0.0   \n",
       "Parking_Assistant  1436.0      0.002786      0.052723     0.0      0.0   \n",
       "Tow_Bar            1436.0      0.277855      0.448098     0.0      0.0   \n",
       "\n",
       "                       50%       75%       max  \n",
       "Price               9900.0  11950.00   32500.0  \n",
       "Age_08_04             61.0     70.00      80.0  \n",
       "Mfg_Month              5.0      8.00      12.0  \n",
       "Mfg_Year            1999.0   2001.00    2004.0  \n",
       "KM                 63389.5  87020.75  243000.0  \n",
       "HP                   110.0    110.00     192.0  \n",
       "Met_Color              1.0      1.00       1.0  \n",
       "Automatic              0.0      0.00       1.0  \n",
       "CC                  1600.0   1600.00   16000.0  \n",
       "Doors                  4.0      5.00       5.0  \n",
       "Cylinders              4.0      4.00       4.0  \n",
       "Gears                  5.0      5.00       6.0  \n",
       "Quarterly_Tax         85.0     85.00     283.0  \n",
       "Weight              1070.0   1085.00    1615.0  \n",
       "Mfr_Guarantee          0.0      1.00       1.0  \n",
       "BOVAG_Guarantee        1.0      1.00       1.0  \n",
       "Guarantee_Period       3.0      3.00      36.0  \n",
       "ABS                    1.0      1.00       1.0  \n",
       "Airbag_1               1.0      1.00       1.0  \n",
       "Airbag_2               1.0      1.00       1.0  \n",
       "Airco                  1.0      1.00       1.0  \n",
       "Automatic_airco        0.0      0.00       1.0  \n",
       "Boardcomputer          0.0      1.00       1.0  \n",
       "CD_Player              0.0      0.00       1.0  \n",
       "Central_Lock           1.0      1.00       1.0  \n",
       "Powered_Windows        1.0      1.00       1.0  \n",
       "Power_Steering         1.0      1.00       1.0  \n",
       "Radio                  0.0      0.00       1.0  \n",
       "Mistlamps              0.0      1.00       1.0  \n",
       "Sport_Model            0.0      1.00       1.0  \n",
       "Backseat_Divider       1.0      1.00       1.0  \n",
       "Metallic_Rim           0.0      0.00       1.0  \n",
       "Radio_cassette         0.0      0.00       1.0  \n",
       "Parking_Assistant      0.0      0.00       1.0  \n",
       "Tow_Bar                0.0      1.00       1.0  "
      ]
     },
     "execution_count": 6,
     "metadata": {},
     "output_type": "execute_result"
    }
   ],
   "source": [
    "car_df.describe().transpose()"
   ]
  },
  {
   "cell_type": "code",
   "execution_count": 7,
   "metadata": {},
   "outputs": [
    {
     "data": {
      "text/plain": [
       "(1436, 37)"
      ]
     },
     "execution_count": 7,
     "metadata": {},
     "output_type": "execute_result"
    }
   ],
   "source": [
    "car_df.drop('Model',axis=1,inplace=True) #dropping make here but in real project,may separate data based on make\n",
    "# the different make in same dataset may not be a good idea\n",
    "car_df.shape"
   ]
  },
  {
   "cell_type": "markdown",
   "metadata": {},
   "source": [
    "# cleaning the data "
   ]
  },
  {
   "cell_type": "code",
   "execution_count": 8,
   "metadata": {},
   "outputs": [],
   "source": [
    "features=list(car_df.columns)"
   ]
  },
  {
   "cell_type": "code",
   "execution_count": 9,
   "metadata": {},
   "outputs": [],
   "source": [
    "model_data = car_df[features]"
   ]
  },
  {
   "cell_type": "code",
   "execution_count": 10,
   "metadata": {},
   "outputs": [
    {
     "data": {
      "text/plain": [
       "Price                0\n",
       "Age_08_04            0\n",
       "Mfg_Month            0\n",
       "Mfg_Year             0\n",
       "KM                   0\n",
       "Fuel_Type            0\n",
       "HP                   0\n",
       "Met_Color            0\n",
       "Color                0\n",
       "Automatic            0\n",
       "CC                   0\n",
       "Doors                0\n",
       "Cylinders            0\n",
       "Gears                0\n",
       "Quarterly_Tax        0\n",
       "Weight               0\n",
       "Mfr_Guarantee        0\n",
       "BOVAG_Guarantee      0\n",
       "Guarantee_Period     0\n",
       "ABS                  0\n",
       "Airbag_1             0\n",
       "Airbag_2             0\n",
       "Airco                0\n",
       "Automatic_airco      0\n",
       "Boardcomputer        0\n",
       "CD_Player            0\n",
       "Central_Lock         0\n",
       "Powered_Windows      0\n",
       "Power_Steering       0\n",
       "Radio                0\n",
       "Mistlamps            0\n",
       "Sport_Model          0\n",
       "Backseat_Divider     0\n",
       "Metallic_Rim         0\n",
       "Radio_cassette       0\n",
       "Parking_Assistant    0\n",
       "Tow_Bar              0\n",
       "dtype: int64"
      ]
     },
     "execution_count": 10,
     "metadata": {},
     "output_type": "execute_result"
    }
   ],
   "source": [
    "model_data.isnull().sum()"
   ]
  },
  {
   "cell_type": "code",
   "execution_count": 11,
   "metadata": {},
   "outputs": [
    {
     "name": "stdout",
     "output_type": "stream",
     "text": [
      "<class 'pandas.core.frame.DataFrame'>\n",
      "RangeIndex: 1436 entries, 0 to 1435\n",
      "Data columns (total 37 columns):\n",
      " #   Column             Non-Null Count  Dtype \n",
      "---  ------             --------------  ----- \n",
      " 0   Price              1436 non-null   int64 \n",
      " 1   Age_08_04          1436 non-null   int64 \n",
      " 2   Mfg_Month          1436 non-null   int64 \n",
      " 3   Mfg_Year           1436 non-null   int64 \n",
      " 4   KM                 1436 non-null   int64 \n",
      " 5   Fuel_Type          1436 non-null   object\n",
      " 6   HP                 1436 non-null   int64 \n",
      " 7   Met_Color          1436 non-null   int64 \n",
      " 8   Color              1436 non-null   object\n",
      " 9   Automatic          1436 non-null   int64 \n",
      " 10  CC                 1436 non-null   int64 \n",
      " 11  Doors              1436 non-null   int64 \n",
      " 12  Cylinders          1436 non-null   int64 \n",
      " 13  Gears              1436 non-null   int64 \n",
      " 14  Quarterly_Tax      1436 non-null   int64 \n",
      " 15  Weight             1436 non-null   int64 \n",
      " 16  Mfr_Guarantee      1436 non-null   int64 \n",
      " 17  BOVAG_Guarantee    1436 non-null   int64 \n",
      " 18  Guarantee_Period   1436 non-null   int64 \n",
      " 19  ABS                1436 non-null   int64 \n",
      " 20  Airbag_1           1436 non-null   int64 \n",
      " 21  Airbag_2           1436 non-null   int64 \n",
      " 22  Airco              1436 non-null   int64 \n",
      " 23  Automatic_airco    1436 non-null   int64 \n",
      " 24  Boardcomputer      1436 non-null   int64 \n",
      " 25  CD_Player          1436 non-null   int64 \n",
      " 26  Central_Lock       1436 non-null   int64 \n",
      " 27  Powered_Windows    1436 non-null   int64 \n",
      " 28  Power_Steering     1436 non-null   int64 \n",
      " 29  Radio              1436 non-null   int64 \n",
      " 30  Mistlamps          1436 non-null   int64 \n",
      " 31  Sport_Model        1436 non-null   int64 \n",
      " 32  Backseat_Divider   1436 non-null   int64 \n",
      " 33  Metallic_Rim       1436 non-null   int64 \n",
      " 34  Radio_cassette     1436 non-null   int64 \n",
      " 35  Parking_Assistant  1436 non-null   int64 \n",
      " 36  Tow_Bar            1436 non-null   int64 \n",
      "dtypes: int64(35), object(2)\n",
      "memory usage: 415.2+ KB\n"
     ]
    }
   ],
   "source": [
    "model_data.info()"
   ]
  },
  {
   "cell_type": "code",
   "execution_count": 12,
   "metadata": {},
   "outputs": [],
   "source": [
    "clean_df = pd.DataFrame(model_data)"
   ]
  },
  {
   "cell_type": "code",
   "execution_count": 13,
   "metadata": {},
   "outputs": [
    {
     "name": "stdout",
     "output_type": "stream",
     "text": [
      "3     1274\n",
      "6       77\n",
      "12      73\n",
      "36       4\n",
      "24       4\n",
      "28       1\n",
      "20       1\n",
      "18       1\n",
      "13       1\n",
      "Name: Guarantee_Period, dtype: int64\n"
     ]
    }
   ],
   "source": [
    "result4=clean_df['Guarantee_Period'].value_counts()\n",
    "print(result4)"
   ]
  },
  {
   "cell_type": "code",
   "execution_count": 14,
   "metadata": {},
   "outputs": [
    {
     "name": "stdout",
     "output_type": "stream",
     "text": [
      "1    969\n",
      "0    467\n",
      "Name: Met_Color, dtype: int64\n",
      "32.52 %\n"
     ]
    }
   ],
   "source": [
    "# let us count data values for some columns\n",
    "result3=clean_df['Met_Color'].value_counts()\n",
    "print(result3)\n",
    "total = clean_df[\"Met_Color\"].count()\n",
    "yes = result3.values[1]\n",
    "Met_Color_pct = (yes/total)*100\n",
    "print(round(Met_Color_pct,2),\"%\")"
   ]
  },
  {
   "cell_type": "code",
   "execution_count": 15,
   "metadata": {},
   "outputs": [
    {
     "data": {
      "image/png": "[encoded data removed]",
      "text/plain": [
       "<Figure size 432x288 with 1 Axes>"
      ]
     },
     "metadata": {},
     "output_type": "display_data"
    }
   ],
   "source": [
    "plt.style.use(\"seaborn-pastel\")\n",
    "plt.pie(result3.values, labels = result3.index,shadow = True, startangle = 90, autopct = \"%1.1f%%\")\n",
    "plt.title(\"% of the car appears to be that of a polished metal\")\n",
    "plt.show()"
   ]
  },
  {
   "cell_type": "code",
   "execution_count": 16,
   "metadata": {},
   "outputs": [
    {
     "name": "stdout",
     "output_type": "stream",
     "text": [
      "0    1356\n",
      "1      80\n",
      "Name: Automatic, dtype: int64\n",
      "5.57 %\n"
     ]
    }
   ],
   "source": [
    "result15=clean_df['Automatic'].value_counts()\n",
    "print(result15)\n",
    "total = clean_df[\"Automatic\"].count()\n",
    "yes = result15.values[1]\n",
    "Automatic_pct = (yes/total)*100\n",
    "print(round(Automatic_pct,2),\"%\")"
   ]
  },
  {
   "cell_type": "code",
   "execution_count": 17,
   "metadata": {},
   "outputs": [
    {
     "data": {
      "image/png": "[encoded data removed]",
      "text/plain": [
       "<Figure size 432x288 with 1 Axes>"
      ]
     },
     "metadata": {},
     "output_type": "display_data"
    }
   ],
   "source": [
    "plt.pie(result15.values, labels = result15.index,shadow = True, startangle = 90, autopct = \"%1.1f%%\")\n",
    "plt.title(\"% of automobile with an automatic transmission \")\n",
    "plt.show()"
   ]
  },
  {
   "cell_type": "code",
   "execution_count": 18,
   "metadata": {},
   "outputs": [
    {
     "data": {
      "text/plain": [
       "4    1436\n",
       "Name: Cylinders, dtype: int64"
      ]
     },
     "execution_count": 18,
     "metadata": {},
     "output_type": "execute_result"
    }
   ],
   "source": [
    "clean_df['Cylinders'].value_counts()  # need to drop this column i.e. an attribute which is only one type of data is not a good dimension"
   ]
  },
  {
   "cell_type": "code",
   "execution_count": 19,
   "metadata": {},
   "outputs": [
    {
     "name": "stdout",
     "output_type": "stream",
     "text": [
      "5    1390\n",
      "6      43\n",
      "3       2\n",
      "4       1\n",
      "Name: Gears, dtype: int64\n"
     ]
    }
   ],
   "source": [
    "result14=clean_df['Gears'].value_counts()  \n",
    "print(result14)"
   ]
  },
  {
   "cell_type": "code",
   "execution_count": 20,
   "metadata": {},
   "outputs": [
    {
     "name": "stdout",
     "output_type": "stream",
     "text": [
      "1    1168\n",
      "0     268\n",
      "Name: ABS, dtype: int64\n",
      "18.66 %\n"
     ]
    }
   ],
   "source": [
    "result13=clean_df['ABS'].value_counts() \n",
    "print(result13)\n",
    "total = clean_df[\"ABS\"].count()\n",
    "yes = result13.values[1]\n",
    "ABS_pct = (yes/total)*100\n",
    "print(round(ABS_pct,2),\"%\")"
   ]
  },
  {
   "cell_type": "code",
   "execution_count": 21,
   "metadata": {},
   "outputs": [
    {
     "data": {
      "image/png": "[encoded data removed]",
      "text/plain": [
       "<Figure size 432x288 with 1 Axes>"
      ]
     },
     "metadata": {},
     "output_type": "display_data"
    }
   ],
   "source": [
    "plt.pie(result13.values, labels = result13.index,shadow = True, startangle = 90, autopct = \"%1.1f%%\")\n",
    "plt.title(\"% of Anti-Lock Braking System  \")\n",
    "plt.show()"
   ]
  },
  {
   "cell_type": "code",
   "execution_count": 22,
   "metadata": {},
   "outputs": [
    {
     "name": "stdout",
     "output_type": "stream",
     "text": [
      "1    1394\n",
      "0      42\n",
      "Name: Airbag_1, dtype: int64\n",
      "2.92 %\n"
     ]
    }
   ],
   "source": [
    "result12=clean_df['Airbag_1'].value_counts()    \n",
    "print(result12)\n",
    "total = clean_df[\"Airbag_1\"].count()\n",
    "yes = result12.values[1]\n",
    "Airbag_1_pct = (yes/total)*100\n",
    "print(round(Airbag_1_pct,2),\"%\")"
   ]
  },
  {
   "cell_type": "code",
   "execution_count": 23,
   "metadata": {},
   "outputs": [
    {
     "data": {
      "image/png": "[encoded data removed]",
      "text/plain": [
       "<Figure size 432x288 with 1 Axes>"
      ]
     },
     "metadata": {},
     "output_type": "display_data"
    }
   ],
   "source": [
    "plt.pie(result12.values, labels = result12.index,shadow = True, startangle = 90, autopct = \"%1.1f%%\")\n",
    "plt.title(\"% of airbags in the front \")\n",
    "plt.show()"
   ]
  },
  {
   "cell_type": "code",
   "execution_count": 24,
   "metadata": {},
   "outputs": [
    {
     "name": "stdout",
     "output_type": "stream",
     "text": [
      "1    1038\n",
      "0     398\n",
      "Name: Airbag_2, dtype: int64\n",
      "27.72 %\n"
     ]
    }
   ],
   "source": [
    "result11=clean_df['Airbag_2'].value_counts()\n",
    "print(result11)\n",
    "total = clean_df[\"Airbag_2\"].count()\n",
    "yes = result11.values[1]\n",
    "Airbag_2_pct = (yes/total)*100\n",
    "print(round(Airbag_2_pct,2),\"%\")"
   ]
  },
  {
   "cell_type": "code",
   "execution_count": 25,
   "metadata": {},
   "outputs": [
    {
     "data": {
      "image/png": "[encoded data removed]",
      "text/plain": [
       "<Figure size 432x288 with 1 Axes>"
      ]
     },
     "metadata": {},
     "output_type": "display_data"
    }
   ],
   "source": [
    "plt.pie(result11.values, labels = result11.index,shadow = True, startangle = 90, autopct = \"%1.1f%%\")\n",
    "plt.title(\"% of airbags in the backend \")\n",
    "plt.show()"
   ]
  },
  {
   "cell_type": "code",
   "execution_count": 26,
   "metadata": {},
   "outputs": [
    {
     "name": "stdout",
     "output_type": "stream",
     "text": [
      "0    1122\n",
      "1     314\n",
      "Name: CD_Player, dtype: int64\n",
      "21.87 %\n"
     ]
    }
   ],
   "source": [
    "result10=clean_df['CD_Player'].value_counts()\n",
    "print(result10)\n",
    "total = clean_df[\"CD_Player\"].count()\n",
    "yes = result10.values[1]\n",
    "CD_Player_pct = (yes/total)*100\n",
    "print(round(CD_Player_pct,2),\"%\")"
   ]
  },
  {
   "cell_type": "code",
   "execution_count": 27,
   "metadata": {},
   "outputs": [
    {
     "data": {
      "image/png": "[encoded data removed]",
      "text/plain": [
       "<Figure size 432x288 with 1 Axes>"
      ]
     },
     "metadata": {},
     "output_type": "display_data"
    }
   ],
   "source": [
    "plt.pie(result10.values, labels = result10.index,shadow = True, startangle = 90, autopct = \"%1.1f%%\")\n",
    "plt.title(\"% of car supports CD player option  \")\n",
    "plt.show()"
   ]
  },
  {
   "cell_type": "code",
   "execution_count": 28,
   "metadata": {},
   "outputs": [
    {
     "data": {
      "text/plain": [
       "1    1404\n",
       "0      32\n",
       "Name: Power_Steering, dtype: int64"
      ]
     },
     "execution_count": 28,
     "metadata": {},
     "output_type": "execute_result"
    }
   ],
   "source": [
    "clean_df['Power_Steering'].value_counts()        "
   ]
  },
  {
   "cell_type": "code",
   "execution_count": 29,
   "metadata": {},
   "outputs": [
    {
     "name": "stdout",
     "output_type": "stream",
     "text": [
      "0    1226\n",
      "1     210\n",
      "Name: Radio, dtype: int64\n",
      "14.62 %\n"
     ]
    }
   ],
   "source": [
    "result9=clean_df['Radio'].value_counts()\n",
    "print(result9)\n",
    "total = clean_df[\"Radio\"].count()\n",
    "yes = result9.values[1]\n",
    "Radio_pct = (yes/total)*100\n",
    "print(round(Radio_pct,2),\"%\")"
   ]
  },
  {
   "cell_type": "code",
   "execution_count": 30,
   "metadata": {},
   "outputs": [
    {
     "data": {
      "image/png": "[encoded data removed]",
      "text/plain": [
       "<Figure size 432x288 with 1 Axes>"
      ]
     },
     "metadata": {},
     "output_type": "display_data"
    }
   ],
   "source": [
    "plt.pie(result9.values, labels = result9.index,shadow = True, startangle = 90, autopct = \"%1.1f%%\")\n",
    "plt.title(\"% of cars have radio installed \")\n",
    "plt.show()"
   ]
  },
  {
   "cell_type": "code",
   "execution_count": 31,
   "metadata": {},
   "outputs": [
    {
     "name": "stdout",
     "output_type": "stream",
     "text": [
      "0    1067\n",
      "1     369\n",
      "Name: Mistlamps, dtype: int64\n",
      "25.7 %\n"
     ]
    }
   ],
   "source": [
    "result8=clean_df['Mistlamps'].value_counts()\n",
    "print(result8)\n",
    "total = clean_df[\"Mistlamps\"].count()\n",
    "yes = result8.values[1]\n",
    "Mistlamps_pct = (yes/total)*100\n",
    "print(round(Mistlamps_pct,2),\"%\")"
   ]
  },
  {
   "cell_type": "code",
   "execution_count": 32,
   "metadata": {},
   "outputs": [
    {
     "data": {
      "image/png": "[encoded data removed]",
      "text/plain": [
       "<Figure size 432x288 with 1 Axes>"
      ]
     },
     "metadata": {},
     "output_type": "display_data"
    }
   ],
   "source": [
    "plt.pie(result8.values, labels = result8.index,shadow = True, startangle = 90, autopct = \"%1.1f%%\")\n",
    "plt.title(\"% of cars that have Mistlamps \")\n",
    "plt.show()"
   ]
  },
  {
   "cell_type": "code",
   "execution_count": 33,
   "metadata": {},
   "outputs": [
    {
     "name": "stdout",
     "output_type": "stream",
     "text": [
      "0    1005\n",
      "1     431\n",
      "Name: Sport_Model, dtype: int64\n",
      "30.01 %\n"
     ]
    }
   ],
   "source": [
    "result7=clean_df['Sport_Model'].value_counts()\n",
    "print(result7)\n",
    "total = clean_df[\"Sport_Model\"].count()\n",
    "yes = result7.values[1]\n",
    "Sport_Model_pct = (yes/total)*100\n",
    "print(round(Sport_Model_pct,2),\"%\")"
   ]
  },
  {
   "cell_type": "code",
   "execution_count": 34,
   "metadata": {},
   "outputs": [
    {
     "data": {
      "image/png": "[encoded data removed]",
      "text/plain": [
       "<Figure size 432x288 with 1 Axes>"
      ]
     },
     "metadata": {},
     "output_type": "display_data"
    }
   ],
   "source": [
    "plt.pie(result7.values, labels = result7.index,shadow = True, startangle = 90, autopct = \"%1.1f%%\")\n",
    "plt.title(\"% of cars which has design like sports model  \")\n",
    "plt.show()"
   ]
  },
  {
   "cell_type": "code",
   "execution_count": 35,
   "metadata": {},
   "outputs": [
    {
     "name": "stdout",
     "output_type": "stream",
     "text": [
      "1    1106\n",
      "0     330\n",
      "Name: Backseat_Divider, dtype: int64\n",
      "22.98 %\n"
     ]
    }
   ],
   "source": [
    "result6=clean_df['Backseat_Divider'].value_counts()\n",
    "print(result6)\n",
    "total = clean_df[\"Backseat_Divider\"].count()\n",
    "yes = result6.values[1]\n",
    "Backseat_Divider_pct = (yes/total)*100\n",
    "print(round(Backseat_Divider_pct,2),\"%\")"
   ]
  },
  {
   "cell_type": "code",
   "execution_count": 36,
   "metadata": {},
   "outputs": [
    {
     "data": {
      "image/png": "[encoded data removed]",
      "text/plain": [
       "<Figure size 432x288 with 1 Axes>"
      ]
     },
     "metadata": {},
     "output_type": "display_data"
    }
   ],
   "source": [
    "plt.pie(result6.values, labels = result6.index,shadow = True, startangle = 90, autopct = \"%1.1f%%\")\n",
    "plt.title(\"% of cars backseat divider \")\n",
    "plt.show()"
   ]
  },
  {
   "cell_type": "code",
   "execution_count": 37,
   "metadata": {},
   "outputs": [
    {
     "name": "stdout",
     "output_type": "stream",
     "text": [
      "0    1142\n",
      "1     294\n",
      "Name: Metallic_Rim, dtype: int64\n",
      "20.47 %\n"
     ]
    }
   ],
   "source": [
    "result5=clean_df['Metallic_Rim'].value_counts()\n",
    "print(result5)\n",
    "total = clean_df[\"Metallic_Rim\"].count()\n",
    "yes = result5.values[1]\n",
    "Metallic_Rim_pct = (yes/total)*100\n",
    "print(round(Metallic_Rim_pct,2),\"%\")"
   ]
  },
  {
   "cell_type": "code",
   "execution_count": 38,
   "metadata": {},
   "outputs": [
    {
     "data": {
      "image/png": "[encoded data removed]",
      "text/plain": [
       "<Figure size 432x288 with 1 Axes>"
      ]
     },
     "metadata": {},
     "output_type": "display_data"
    }
   ],
   "source": [
    "plt.pie(result5.values, labels = result5.index,shadow = True, startangle = 90, autopct = \"%1.1f%%\")\n",
    "plt.title(\"% of cars has Metallic Rim \")\n",
    "plt.show()"
   ]
  },
  {
   "cell_type": "code",
   "execution_count": 39,
   "metadata": {},
   "outputs": [
    {
     "name": "stdout",
     "output_type": "stream",
     "text": [
      "0    1227\n",
      "1     209\n",
      "Name: Radio_cassette, dtype: int64\n",
      "14.55 %\n"
     ]
    }
   ],
   "source": [
    "result2=clean_df['Radio_cassette'].value_counts()  \n",
    "print(result2)\n",
    "total = clean_df[\"Radio_cassette\"].count()\n",
    "yes = result2.values[1]\n",
    "Radio_cassette_pct = (yes/total)*100\n",
    "print(round(Radio_cassette_pct,2),\"%\")"
   ]
  },
  {
   "cell_type": "code",
   "execution_count": 40,
   "metadata": {},
   "outputs": [
    {
     "data": {
      "image/png": "[encoded data removed]",
      "text/plain": [
       "<Figure size 432x288 with 1 Axes>"
      ]
     },
     "metadata": {},
     "output_type": "display_data"
    }
   ],
   "source": [
    "plt.pie(result2.values, labels = result2.index,shadow = True, startangle = 90, autopct = \"%1.1f%%\")\n",
    "plt.title(\"% of cars has Radio cassette \")\n",
    "plt.show()"
   ]
  },
  {
   "cell_type": "code",
   "execution_count": 41,
   "metadata": {},
   "outputs": [
    {
     "data": {
      "text/plain": [
       "0    1432\n",
       "1       4\n",
       "Name: Parking_Assistant, dtype: int64"
      ]
     },
     "execution_count": 41,
     "metadata": {},
     "output_type": "execute_result"
    }
   ],
   "source": [
    "clean_df['Parking_Assistant'].value_counts()      # drop it as the model will always try to replicate for no parking_Assistant"
   ]
  },
  {
   "cell_type": "code",
   "execution_count": 42,
   "metadata": {},
   "outputs": [
    {
     "name": "stdout",
     "output_type": "stream",
     "text": [
      "0    1037\n",
      "1     399\n",
      "Name: Tow_Bar, dtype: int64\n",
      "27.79 %\n"
     ]
    }
   ],
   "source": [
    "result1=clean_df['Tow_Bar'].value_counts()\n",
    "print(result1)\n",
    "total = clean_df[\"Tow_Bar\"].count()\n",
    "yes = result1.values[1]\n",
    "Tow_Bar_pct = (yes/total)*100\n",
    "print(round(Tow_Bar_pct,2),\"%\")"
   ]
  },
  {
   "cell_type": "code",
   "execution_count": 43,
   "metadata": {},
   "outputs": [
    {
     "data": {
      "image/png": "[encoded data removed]",
      "text/plain": [
       "<Figure size 432x288 with 1 Axes>"
      ]
     },
     "metadata": {},
     "output_type": "display_data"
    }
   ],
   "source": [
    "plt.pie(result1.values, labels = result1.index,shadow = True, startangle = 90, autopct = \"%1.1f%%\")\n",
    "plt.title(\"% of cars has tow bar\")\n",
    "plt.show()"
   ]
  },
  {
   "cell_type": "code",
   "execution_count": 44,
   "metadata": {},
   "outputs": [
    {
     "data": {
      "text/plain": [
       "Grey      301\n",
       "Blue      283\n",
       "Red       278\n",
       "Green     220\n",
       "Black     191\n",
       "Silver    122\n",
       "White      31\n",
       "Violet      4\n",
       "Yellow      3\n",
       "Beige       3\n",
       "Name: Color, dtype: int64"
      ]
     },
     "execution_count": 44,
     "metadata": {},
     "output_type": "execute_result"
    }
   ],
   "source": [
    "result=clean_df['Color'].value_counts()\n",
    "result"
   ]
  },
  {
   "cell_type": "code",
   "execution_count": 45,
   "metadata": {},
   "outputs": [
    {
     "name": "stdout",
     "output_type": "stream",
     "text": [
      "Petrol    1264\n",
      "Diesel     155\n",
      "CNG         17\n",
      "Name: Fuel_Type, dtype: int64\n",
      "10.79 %\n"
     ]
    }
   ],
   "source": [
    "result1=clean_df['Fuel_Type'].value_counts()\n",
    "print(result1)\n",
    "total = clean_df[\"Fuel_Type\"].count()\n",
    "yes = result1.values[1]\n",
    "Fuel_Type_pct = (yes/total)*100\n",
    "print(round(Fuel_Type_pct,2),\"%\")"
   ]
  },
  {
   "cell_type": "code",
   "execution_count": 46,
   "metadata": {},
   "outputs": [
    {
     "data": {
      "image/png": "[encoded data removed]",
      "text/plain": [
       "<Figure size 432x288 with 1 Axes>"
      ]
     },
     "metadata": {},
     "output_type": "display_data"
    }
   ],
   "source": [
    "plt.pie(result1.values, labels = result1.index,shadow = True, startangle = 90, autopct = \"%1.1f%%\")\n",
    "plt.title(\"% of Fuel Type of cars\")\n",
    "plt.show()"
   ]
  },
  {
   "cell_type": "code",
   "execution_count": 47,
   "metadata": {},
   "outputs": [
    {
     "name": "stdout",
     "output_type": "stream",
     "text": [
      "1    1404\n",
      "0      32\n",
      "Name: Power_Steering, dtype: int64\n",
      "2.23 %\n"
     ]
    }
   ],
   "source": [
    "result20=clean_df['Power_Steering'].value_counts()\n",
    "print(result20)\n",
    "total = clean_df[\"Power_Steering\"].count()\n",
    "yes = result20.values[1]\n",
    "Power_Steering_pct = (yes/total)*100\n",
    "print(round(Power_Steering_pct,2),\"%\")"
   ]
  },
  {
   "cell_type": "code",
   "execution_count": 48,
   "metadata": {},
   "outputs": [
    {
     "data": {
      "image/png": "[encoded data removed]",
      "text/plain": [
       "<Figure size 432x288 with 1 Axes>"
      ]
     },
     "metadata": {},
     "output_type": "display_data"
    }
   ],
   "source": [
    "plt.pie(result20.values, labels = result20.index,shadow = True, startangle = 90, autopct = \"%1.1f%%\")\n",
    "plt.title(\"% of power-assisted steering\")\n",
    "plt.show()"
   ]
  },
  {
   "cell_type": "code",
   "execution_count": 49,
   "metadata": {},
   "outputs": [
    {
     "data": {
      "text/plain": [
       "(1436, 37)"
      ]
     },
     "execution_count": 49,
     "metadata": {},
     "output_type": "execute_result"
    }
   ],
   "source": [
    "clean_df.shape"
   ]
  },
  {
   "cell_type": "markdown",
   "metadata": {},
   "source": [
    "# Drop the variables which has 99% the same category from the raw data as it would create biased model"
   ]
  },
  {
   "cell_type": "code",
   "execution_count": 50,
   "metadata": {},
   "outputs": [
    {
     "data": {
      "text/plain": [
       "(1436, 35)"
      ]
     },
     "execution_count": 50,
     "metadata": {},
     "output_type": "execute_result"
    }
   ],
   "source": [
    "clean_df.drop(['Parking_Assistant','Cylinders'],axis=1,inplace=True)\n",
    "clean_df.shape"
   ]
  },
  {
   "cell_type": "code",
   "execution_count": 51,
   "metadata": {},
   "outputs": [],
   "source": [
    "clean_df=clean_df.replace('Diesel',0)\n",
    "clean_df=clean_df.replace('Petrol',1)"
   ]
  },
  {
   "cell_type": "code",
   "execution_count": 52,
   "metadata": {},
   "outputs": [
    {
     "data": {
      "text/html": [
       "<div>\n",
       "<style scoped>\n",
       "    .dataframe tbody tr th:only-of-type {\n",
       "        vertical-align: middle;\n",
       "    }\n",
       "\n",
       "    .dataframe tbody tr th {\n",
       "        vertical-align: top;\n",
       "    }\n",
       "\n",
       "    .dataframe thead th {\n",
       "        text-align: right;\n",
       "    }\n",
       "</style>\n",
       "<table border=\"1\" class=\"dataframe\">\n",
       "  <thead>\n",
       "    <tr style=\"text-align: right;\">\n",
       "      <th></th>\n",
       "      <th>Price</th>\n",
       "      <th>Age_08_04</th>\n",
       "      <th>Mfg_Month</th>\n",
       "      <th>Mfg_Year</th>\n",
       "      <th>KM</th>\n",
       "      <th>Fuel_Type</th>\n",
       "      <th>HP</th>\n",
       "      <th>Met_Color</th>\n",
       "      <th>Color</th>\n",
       "      <th>Automatic</th>\n",
       "      <th>...</th>\n",
       "      <th>Central_Lock</th>\n",
       "      <th>Powered_Windows</th>\n",
       "      <th>Power_Steering</th>\n",
       "      <th>Radio</th>\n",
       "      <th>Mistlamps</th>\n",
       "      <th>Sport_Model</th>\n",
       "      <th>Backseat_Divider</th>\n",
       "      <th>Metallic_Rim</th>\n",
       "      <th>Radio_cassette</th>\n",
       "      <th>Tow_Bar</th>\n",
       "    </tr>\n",
       "  </thead>\n",
       "  <tbody>\n",
       "    <tr>\n",
       "      <th>0</th>\n",
       "      <td>13500</td>\n",
       "      <td>23</td>\n",
       "      <td>10</td>\n",
       "      <td>2002</td>\n",
       "      <td>46986</td>\n",
       "      <td>0</td>\n",
       "      <td>90</td>\n",
       "      <td>1</td>\n",
       "      <td>Blue</td>\n",
       "      <td>0</td>\n",
       "      <td>...</td>\n",
       "      <td>1</td>\n",
       "      <td>1</td>\n",
       "      <td>1</td>\n",
       "      <td>0</td>\n",
       "      <td>0</td>\n",
       "      <td>0</td>\n",
       "      <td>1</td>\n",
       "      <td>0</td>\n",
       "      <td>0</td>\n",
       "      <td>0</td>\n",
       "    </tr>\n",
       "    <tr>\n",
       "      <th>1</th>\n",
       "      <td>13750</td>\n",
       "      <td>23</td>\n",
       "      <td>10</td>\n",
       "      <td>2002</td>\n",
       "      <td>72937</td>\n",
       "      <td>0</td>\n",
       "      <td>90</td>\n",
       "      <td>1</td>\n",
       "      <td>Silver</td>\n",
       "      <td>0</td>\n",
       "      <td>...</td>\n",
       "      <td>1</td>\n",
       "      <td>0</td>\n",
       "      <td>1</td>\n",
       "      <td>0</td>\n",
       "      <td>0</td>\n",
       "      <td>0</td>\n",
       "      <td>1</td>\n",
       "      <td>0</td>\n",
       "      <td>0</td>\n",
       "      <td>0</td>\n",
       "    </tr>\n",
       "    <tr>\n",
       "      <th>2</th>\n",
       "      <td>13950</td>\n",
       "      <td>24</td>\n",
       "      <td>9</td>\n",
       "      <td>2002</td>\n",
       "      <td>41711</td>\n",
       "      <td>0</td>\n",
       "      <td>90</td>\n",
       "      <td>1</td>\n",
       "      <td>Blue</td>\n",
       "      <td>0</td>\n",
       "      <td>...</td>\n",
       "      <td>0</td>\n",
       "      <td>0</td>\n",
       "      <td>1</td>\n",
       "      <td>0</td>\n",
       "      <td>0</td>\n",
       "      <td>0</td>\n",
       "      <td>1</td>\n",
       "      <td>0</td>\n",
       "      <td>0</td>\n",
       "      <td>0</td>\n",
       "    </tr>\n",
       "    <tr>\n",
       "      <th>3</th>\n",
       "      <td>14950</td>\n",
       "      <td>26</td>\n",
       "      <td>7</td>\n",
       "      <td>2002</td>\n",
       "      <td>48000</td>\n",
       "      <td>0</td>\n",
       "      <td>90</td>\n",
       "      <td>0</td>\n",
       "      <td>Black</td>\n",
       "      <td>0</td>\n",
       "      <td>...</td>\n",
       "      <td>0</td>\n",
       "      <td>0</td>\n",
       "      <td>1</td>\n",
       "      <td>0</td>\n",
       "      <td>0</td>\n",
       "      <td>0</td>\n",
       "      <td>1</td>\n",
       "      <td>0</td>\n",
       "      <td>0</td>\n",
       "      <td>0</td>\n",
       "    </tr>\n",
       "    <tr>\n",
       "      <th>4</th>\n",
       "      <td>13750</td>\n",
       "      <td>30</td>\n",
       "      <td>3</td>\n",
       "      <td>2002</td>\n",
       "      <td>38500</td>\n",
       "      <td>0</td>\n",
       "      <td>90</td>\n",
       "      <td>0</td>\n",
       "      <td>Black</td>\n",
       "      <td>0</td>\n",
       "      <td>...</td>\n",
       "      <td>1</td>\n",
       "      <td>1</td>\n",
       "      <td>1</td>\n",
       "      <td>0</td>\n",
       "      <td>1</td>\n",
       "      <td>0</td>\n",
       "      <td>1</td>\n",
       "      <td>0</td>\n",
       "      <td>0</td>\n",
       "      <td>0</td>\n",
       "    </tr>\n",
       "  </tbody>\n",
       "</table>\n",
       "<p>5 rows × 35 columns</p>\n",
       "</div>"
      ],
      "text/plain": [
       "   Price  Age_08_04  Mfg_Month  Mfg_Year     KM Fuel_Type  HP  Met_Color  \\\n",
       "0  13500         23         10      2002  46986         0  90          1   \n",
       "1  13750         23         10      2002  72937         0  90          1   \n",
       "2  13950         24          9      2002  41711         0  90          1   \n",
       "3  14950         26          7      2002  48000         0  90          0   \n",
       "4  13750         30          3      2002  38500         0  90          0   \n",
       "\n",
       "    Color  Automatic  ...  Central_Lock  Powered_Windows  Power_Steering  \\\n",
       "0    Blue          0  ...             1                1               1   \n",
       "1  Silver          0  ...             1                0               1   \n",
       "2    Blue          0  ...             0                0               1   \n",
       "3   Black          0  ...             0                0               1   \n",
       "4   Black          0  ...             1                1               1   \n",
       "\n",
       "   Radio  Mistlamps  Sport_Model  Backseat_Divider  Metallic_Rim  \\\n",
       "0      0          0            0                 1             0   \n",
       "1      0          0            0                 1             0   \n",
       "2      0          0            0                 1             0   \n",
       "3      0          0            0                 1             0   \n",
       "4      0          1            0                 1             0   \n",
       "\n",
       "   Radio_cassette  Tow_Bar  \n",
       "0               0        0  \n",
       "1               0        0  \n",
       "2               0        0  \n",
       "3               0        0  \n",
       "4               0        0  \n",
       "\n",
       "[5 rows x 35 columns]"
      ]
     },
     "execution_count": 52,
     "metadata": {},
     "output_type": "execute_result"
    }
   ],
   "source": [
    "clean_df.head()"
   ]
  },
  {
   "cell_type": "code",
   "execution_count": 53,
   "metadata": {},
   "outputs": [
    {
     "name": "stdout",
     "output_type": "stream",
     "text": [
      "(1436, 44)\n"
     ]
    },
    {
     "data": {
      "text/plain": [
       "Index(['Price', 'Age_08_04', 'Mfg_Month', 'Mfg_Year', 'KM', 'HP', 'Met_Color',\n",
       "       'Automatic', 'CC', 'Doors', 'Gears', 'Quarterly_Tax', 'Weight',\n",
       "       'Mfr_Guarantee', 'BOVAG_Guarantee', 'Guarantee_Period', 'ABS',\n",
       "       'Airbag_1', 'Airbag_2', 'Airco', 'Automatic_airco', 'Boardcomputer',\n",
       "       'CD_Player', 'Central_Lock', 'Powered_Windows', 'Power_Steering',\n",
       "       'Radio', 'Mistlamps', 'Sport_Model', 'Backseat_Divider', 'Metallic_Rim',\n",
       "       'Radio_cassette', 'Tow_Bar', 'Fuel_Type_1', 'Fuel_Type_CNG',\n",
       "       'Color_Black', 'Color_Blue', 'Color_Green', 'Color_Grey', 'Color_Red',\n",
       "       'Color_Silver', 'Color_Violet', 'Color_White', 'Color_Yellow'],\n",
       "      dtype='object')"
      ]
     },
     "execution_count": 53,
     "metadata": {},
     "output_type": "execute_result"
    }
   ],
   "source": [
    "dummy_df=pd.get_dummies(clean_df,drop_first=True)\n",
    "print(dummy_df.shape)\n",
    "dummy_df.columns"
   ]
  },
  {
   "cell_type": "markdown",
   "metadata": {},
   "source": [
    "# Exploratory Data Analysis"
   ]
  },
  {
   "cell_type": "code",
   "execution_count": 54,
   "metadata": {},
   "outputs": [
    {
     "data": {
      "text/plain": [
       "<matplotlib.axes._subplots.AxesSubplot at 0x2056fd3a9d0>"
      ]
     },
     "execution_count": 54,
     "metadata": {},
     "output_type": "execute_result"
    },
    {
     "data": {
      "image/png": "[encoded data removed]",
      "text/plain": [
       "<Figure size 720x504 with 1 Axes>"
      ]
     },
     "metadata": {
      "needs_background": "light"
     },
     "output_type": "display_data"
    }
   ],
   "source": [
    "import matplotlib.pyplot as plt\n",
    "import seaborn as sns\n",
    "%matplotlib inline\n",
    "fig = plt.figure(figsize =(10, 7))\n",
    "sns.boxplot(x='Mfg_Year',y='Price',data=clean_df)"
   ]
  },
  {
   "cell_type": "code",
   "execution_count": 55,
   "metadata": {},
   "outputs": [
    {
     "data": {
      "text/plain": [
       "<matplotlib.axes._subplots.AxesSubplot at 0x2056fc09d30>"
      ]
     },
     "execution_count": 55,
     "metadata": {},
     "output_type": "execute_result"
    },
    {
     "data": {
      "image/png": "[encoded data removed]",
      "text/plain": [
       "<Figure size 720x504 with 1 Axes>"
      ]
     },
     "metadata": {
      "needs_background": "light"
     },
     "output_type": "display_data"
    }
   ],
   "source": [
    "fig = plt.figure(figsize =(10, 7))\n",
    "sns.boxplot(x='CC',y='KM',data=clean_df)"
   ]
  },
  {
   "cell_type": "code",
   "execution_count": 56,
   "metadata": {},
   "outputs": [
    {
     "data": {
      "image/png": "[encoded data removed]",
      "text/plain": [
       "<Figure size 432x288 with 1 Axes>"
      ]
     },
     "metadata": {
      "needs_background": "light"
     },
     "output_type": "display_data"
    }
   ],
   "source": [
    "plt.style.use(\"seaborn-pastel\")\n",
    "plt.bar(result.index, result.values)\n",
    "plt.title(\"Color of the Car\")\n",
    "plt.ylabel(\"Count\")\n",
    "plt.show()"
   ]
  },
  {
   "cell_type": "code",
   "execution_count": 57,
   "metadata": {},
   "outputs": [
    {
     "data": {
      "image/png": "[encoded data removed]",
      "text/plain": [
       "<Figure size 432x288 with 1 Axes>"
      ]
     },
     "metadata": {
      "needs_background": "light"
     },
     "output_type": "display_data"
    }
   ],
   "source": [
    "plt.style.use(\"seaborn-pastel\")\n",
    "plt.bar(result4.index, result4.values)\n",
    "plt.title(\"Guarantee_Period of the respective Car\")\n",
    "plt.ylabel(\"Count\")\n",
    "plt.show()"
   ]
  },
  {
   "cell_type": "code",
   "execution_count": 58,
   "metadata": {},
   "outputs": [
    {
     "data": {
      "text/plain": [
       "Text(0, 0.5, 'Total KM driven by the Consumer')"
      ]
     },
     "execution_count": 58,
     "metadata": {},
     "output_type": "execute_result"
    },
    {
     "data": {
      "image/png": "[encoded data removed]",
      "text/plain": [
       "<Figure size 432x288 with 1 Axes>"
      ]
     },
     "metadata": {
      "needs_background": "light"
     },
     "output_type": "display_data"
    }
   ],
   "source": [
    "# to create Ogive plot\n",
    "from array import array\n",
    "# declaring data\n",
    "array=clean_df.values\n",
    "data=array[:,4]\n",
    "\n",
    "# creating Age interval\n",
    "YearInterval=[0,1998,1999,2000,2001,2002,2003,2004]\n",
    "# calculating frequency and Age interval\n",
    "values,base=np.histogram(data,bins=YearInterval)\n",
    "\n",
    "# calculating cumulative sum\n",
    "cumsum=np.cumsum(values)\n",
    "\n",
    "# plotting the ogive curve\n",
    "plt.plot(base[1:],cumsum,color='red',marker='o',linestyle='-')\n",
    "\n",
    "# formatting\n",
    "plt.title('Ogive Graph')\n",
    "plt.xlabel('Manufacturing Year')\n",
    "plt.ylabel('Total KM driven by the Consumer')"
   ]
  },
  {
   "cell_type": "code",
   "execution_count": 59,
   "metadata": {},
   "outputs": [
    {
     "data": {
      "text/plain": [
       "<function matplotlib.pyplot.show(*args, **kw)>"
      ]
     },
     "execution_count": 59,
     "metadata": {},
     "output_type": "execute_result"
    },
    {
     "data": {
      "image/png": "[encoded data removed]",
      "text/plain": [
       "<Figure size 432x288 with 1 Axes>"
      ]
     },
     "metadata": {
      "needs_background": "light"
     },
     "output_type": "display_data"
    }
   ],
   "source": [
    "clean_df.plot.scatter(x='Price',y='KM')# checking if there any relationship between the price of the car and distance travelled by the Car\n",
    "plt.grid('True')\n",
    "plt.show"
   ]
  },
  {
   "cell_type": "code",
   "execution_count": 60,
   "metadata": {},
   "outputs": [
    {
     "data": {
      "text/html": [
       "<div>\n",
       "<style scoped>\n",
       "    .dataframe tbody tr th:only-of-type {\n",
       "        vertical-align: middle;\n",
       "    }\n",
       "\n",
       "    .dataframe tbody tr th {\n",
       "        vertical-align: top;\n",
       "    }\n",
       "\n",
       "    .dataframe thead th {\n",
       "        text-align: right;\n",
       "    }\n",
       "</style>\n",
       "<table border=\"1\" class=\"dataframe\">\n",
       "  <thead>\n",
       "    <tr style=\"text-align: right;\">\n",
       "      <th></th>\n",
       "      <th>Price</th>\n",
       "      <th>Age_08_04</th>\n",
       "      <th>Mfg_Month</th>\n",
       "      <th>Mfg_Year</th>\n",
       "      <th>KM</th>\n",
       "      <th>HP</th>\n",
       "      <th>Met_Color</th>\n",
       "      <th>Automatic</th>\n",
       "      <th>CC</th>\n",
       "      <th>Doors</th>\n",
       "      <th>...</th>\n",
       "      <th>Fuel_Type_CNG</th>\n",
       "      <th>Color_Black</th>\n",
       "      <th>Color_Blue</th>\n",
       "      <th>Color_Green</th>\n",
       "      <th>Color_Grey</th>\n",
       "      <th>Color_Red</th>\n",
       "      <th>Color_Silver</th>\n",
       "      <th>Color_Violet</th>\n",
       "      <th>Color_White</th>\n",
       "      <th>Color_Yellow</th>\n",
       "    </tr>\n",
       "  </thead>\n",
       "  <tbody>\n",
       "    <tr>\n",
       "      <th>0</th>\n",
       "      <td>13500</td>\n",
       "      <td>23</td>\n",
       "      <td>10</td>\n",
       "      <td>2002</td>\n",
       "      <td>46986</td>\n",
       "      <td>90</td>\n",
       "      <td>1</td>\n",
       "      <td>0</td>\n",
       "      <td>2000</td>\n",
       "      <td>3</td>\n",
       "      <td>...</td>\n",
       "      <td>0</td>\n",
       "      <td>0</td>\n",
       "      <td>1</td>\n",
       "      <td>0</td>\n",
       "      <td>0</td>\n",
       "      <td>0</td>\n",
       "      <td>0</td>\n",
       "      <td>0</td>\n",
       "      <td>0</td>\n",
       "      <td>0</td>\n",
       "    </tr>\n",
       "    <tr>\n",
       "      <th>1</th>\n",
       "      <td>13750</td>\n",
       "      <td>23</td>\n",
       "      <td>10</td>\n",
       "      <td>2002</td>\n",
       "      <td>72937</td>\n",
       "      <td>90</td>\n",
       "      <td>1</td>\n",
       "      <td>0</td>\n",
       "      <td>2000</td>\n",
       "      <td>3</td>\n",
       "      <td>...</td>\n",
       "      <td>0</td>\n",
       "      <td>0</td>\n",
       "      <td>0</td>\n",
       "      <td>0</td>\n",
       "      <td>0</td>\n",
       "      <td>0</td>\n",
       "      <td>1</td>\n",
       "      <td>0</td>\n",
       "      <td>0</td>\n",
       "      <td>0</td>\n",
       "    </tr>\n",
       "    <tr>\n",
       "      <th>2</th>\n",
       "      <td>13950</td>\n",
       "      <td>24</td>\n",
       "      <td>9</td>\n",
       "      <td>2002</td>\n",
       "      <td>41711</td>\n",
       "      <td>90</td>\n",
       "      <td>1</td>\n",
       "      <td>0</td>\n",
       "      <td>2000</td>\n",
       "      <td>3</td>\n",
       "      <td>...</td>\n",
       "      <td>0</td>\n",
       "      <td>0</td>\n",
       "      <td>1</td>\n",
       "      <td>0</td>\n",
       "      <td>0</td>\n",
       "      <td>0</td>\n",
       "      <td>0</td>\n",
       "      <td>0</td>\n",
       "      <td>0</td>\n",
       "      <td>0</td>\n",
       "    </tr>\n",
       "    <tr>\n",
       "      <th>3</th>\n",
       "      <td>14950</td>\n",
       "      <td>26</td>\n",
       "      <td>7</td>\n",
       "      <td>2002</td>\n",
       "      <td>48000</td>\n",
       "      <td>90</td>\n",
       "      <td>0</td>\n",
       "      <td>0</td>\n",
       "      <td>2000</td>\n",
       "      <td>3</td>\n",
       "      <td>...</td>\n",
       "      <td>0</td>\n",
       "      <td>1</td>\n",
       "      <td>0</td>\n",
       "      <td>0</td>\n",
       "      <td>0</td>\n",
       "      <td>0</td>\n",
       "      <td>0</td>\n",
       "      <td>0</td>\n",
       "      <td>0</td>\n",
       "      <td>0</td>\n",
       "    </tr>\n",
       "    <tr>\n",
       "      <th>4</th>\n",
       "      <td>13750</td>\n",
       "      <td>30</td>\n",
       "      <td>3</td>\n",
       "      <td>2002</td>\n",
       "      <td>38500</td>\n",
       "      <td>90</td>\n",
       "      <td>0</td>\n",
       "      <td>0</td>\n",
       "      <td>2000</td>\n",
       "      <td>3</td>\n",
       "      <td>...</td>\n",
       "      <td>0</td>\n",
       "      <td>1</td>\n",
       "      <td>0</td>\n",
       "      <td>0</td>\n",
       "      <td>0</td>\n",
       "      <td>0</td>\n",
       "      <td>0</td>\n",
       "      <td>0</td>\n",
       "      <td>0</td>\n",
       "      <td>0</td>\n",
       "    </tr>\n",
       "  </tbody>\n",
       "</table>\n",
       "<p>5 rows × 44 columns</p>\n",
       "</div>"
      ],
      "text/plain": [
       "   Price  Age_08_04  Mfg_Month  Mfg_Year     KM  HP  Met_Color  Automatic  \\\n",
       "0  13500         23         10      2002  46986  90          1          0   \n",
       "1  13750         23         10      2002  72937  90          1          0   \n",
       "2  13950         24          9      2002  41711  90          1          0   \n",
       "3  14950         26          7      2002  48000  90          0          0   \n",
       "4  13750         30          3      2002  38500  90          0          0   \n",
       "\n",
       "     CC  Doors  ...  Fuel_Type_CNG  Color_Black  Color_Blue  Color_Green  \\\n",
       "0  2000      3  ...              0            0           1            0   \n",
       "1  2000      3  ...              0            0           0            0   \n",
       "2  2000      3  ...              0            0           1            0   \n",
       "3  2000      3  ...              0            1           0            0   \n",
       "4  2000      3  ...              0            1           0            0   \n",
       "\n",
       "   Color_Grey  Color_Red  Color_Silver  Color_Violet  Color_White  \\\n",
       "0           0          0             0             0            0   \n",
       "1           0          0             1             0            0   \n",
       "2           0          0             0             0            0   \n",
       "3           0          0             0             0            0   \n",
       "4           0          0             0             0            0   \n",
       "\n",
       "   Color_Yellow  \n",
       "0             0  \n",
       "1             0  \n",
       "2             0  \n",
       "3             0  \n",
       "4             0  \n",
       "\n",
       "[5 rows x 44 columns]"
      ]
     },
     "execution_count": 60,
     "metadata": {},
     "output_type": "execute_result"
    }
   ],
   "source": [
    "dummy_df.head()"
   ]
  },
  {
   "cell_type": "code",
   "execution_count": 61,
   "metadata": {},
   "outputs": [
    {
     "data": {
      "text/plain": [
       "1615"
      ]
     },
     "execution_count": 61,
     "metadata": {},
     "output_type": "execute_result"
    }
   ],
   "source": [
    "dummy_df['Weight'].max()"
   ]
  },
  {
   "cell_type": "code",
   "execution_count": 62,
   "metadata": {},
   "outputs": [
    {
     "data": {
      "text/plain": [
       "1000"
      ]
     },
     "execution_count": 62,
     "metadata": {},
     "output_type": "execute_result"
    }
   ],
   "source": [
    "dummy_df['Weight'].min()"
   ]
  },
  {
   "cell_type": "code",
   "execution_count": 63,
   "metadata": {},
   "outputs": [
    {
     "data": {
      "image/png": "[encoded data removed]",
      "text/plain": [
       "<Figure size 432x288 with 1 Axes>"
      ]
     },
     "metadata": {
      "needs_background": "light"
     },
     "output_type": "display_data"
    }
   ],
   "source": [
    "plt.hist(dummy_df['Weight'],edgecolor = 'black')\n",
    "plt.title(\"How much Weight of the car impacts the overall HP\")\n",
    "plt.xlabel(\"Weight\")\n",
    "plt.ylabel(\"HP\")\n",
    "plt.show()"
   ]
  },
  {
   "cell_type": "code",
   "execution_count": 64,
   "metadata": {},
   "outputs": [],
   "source": [
    "used_car_df=dummy_df"
   ]
  },
  {
   "cell_type": "markdown",
   "metadata": {},
   "source": [
    "# Scale the data as some of the features are of different range"
   ]
  },
  {
   "cell_type": "code",
   "execution_count": 65,
   "metadata": {},
   "outputs": [
    {
     "data": {
      "text/html": [
       "<div>\n",
       "<style scoped>\n",
       "    .dataframe tbody tr th:only-of-type {\n",
       "        vertical-align: middle;\n",
       "    }\n",
       "\n",
       "    .dataframe tbody tr th {\n",
       "        vertical-align: top;\n",
       "    }\n",
       "\n",
       "    .dataframe thead th {\n",
       "        text-align: right;\n",
       "    }\n",
       "</style>\n",
       "<table border=\"1\" class=\"dataframe\">\n",
       "  <thead>\n",
       "    <tr style=\"text-align: right;\">\n",
       "      <th></th>\n",
       "      <th>Price</th>\n",
       "      <th>Age_08_04</th>\n",
       "      <th>Mfg_Month</th>\n",
       "      <th>Mfg_Year</th>\n",
       "      <th>KM</th>\n",
       "      <th>HP</th>\n",
       "      <th>Met_Color</th>\n",
       "      <th>Automatic</th>\n",
       "      <th>CC</th>\n",
       "      <th>Doors</th>\n",
       "      <th>...</th>\n",
       "      <th>Fuel_Type_CNG</th>\n",
       "      <th>Color_Black</th>\n",
       "      <th>Color_Blue</th>\n",
       "      <th>Color_Green</th>\n",
       "      <th>Color_Grey</th>\n",
       "      <th>Color_Red</th>\n",
       "      <th>Color_Silver</th>\n",
       "      <th>Color_Violet</th>\n",
       "      <th>Color_White</th>\n",
       "      <th>Color_Yellow</th>\n",
       "    </tr>\n",
       "  </thead>\n",
       "  <tbody>\n",
       "    <tr>\n",
       "      <th>0</th>\n",
       "      <td>0.763497</td>\n",
       "      <td>-1.771349</td>\n",
       "      <td>1.327114</td>\n",
       "      <td>1.541259</td>\n",
       "      <td>-0.574495</td>\n",
       "      <td>-0.767774</td>\n",
       "      <td>0.693977</td>\n",
       "      <td>-0.242808</td>\n",
       "      <td>0.997072</td>\n",
       "      <td>-1.084761</td>\n",
       "      <td>...</td>\n",
       "      <td>-0.109416</td>\n",
       "      <td>-0.391544</td>\n",
       "      <td>2.017763</td>\n",
       "      <td>-0.4252</td>\n",
       "      <td>-0.514795</td>\n",
       "      <td>-0.489798</td>\n",
       "      <td>-0.304601</td>\n",
       "      <td>-0.052833</td>\n",
       "      <td>-0.148488</td>\n",
       "      <td>-0.045739</td>\n",
       "    </tr>\n",
       "    <tr>\n",
       "      <th>1</th>\n",
       "      <td>0.832425</td>\n",
       "      <td>-1.771349</td>\n",
       "      <td>1.327114</td>\n",
       "      <td>1.541259</td>\n",
       "      <td>0.117413</td>\n",
       "      <td>-0.767774</td>\n",
       "      <td>0.693977</td>\n",
       "      <td>-0.242808</td>\n",
       "      <td>0.997072</td>\n",
       "      <td>-1.084761</td>\n",
       "      <td>...</td>\n",
       "      <td>-0.109416</td>\n",
       "      <td>-0.391544</td>\n",
       "      <td>-0.495253</td>\n",
       "      <td>-0.4252</td>\n",
       "      <td>-0.514795</td>\n",
       "      <td>-0.489798</td>\n",
       "      <td>3.280700</td>\n",
       "      <td>-0.052833</td>\n",
       "      <td>-0.148488</td>\n",
       "      <td>-0.045739</td>\n",
       "    </tr>\n",
       "    <tr>\n",
       "      <th>2</th>\n",
       "      <td>0.887567</td>\n",
       "      <td>-1.717586</td>\n",
       "      <td>1.028970</td>\n",
       "      <td>1.541259</td>\n",
       "      <td>-0.715137</td>\n",
       "      <td>-0.767774</td>\n",
       "      <td>0.693977</td>\n",
       "      <td>-0.242808</td>\n",
       "      <td>0.997072</td>\n",
       "      <td>-1.084761</td>\n",
       "      <td>...</td>\n",
       "      <td>-0.109416</td>\n",
       "      <td>-0.391544</td>\n",
       "      <td>2.017763</td>\n",
       "      <td>-0.4252</td>\n",
       "      <td>-0.514795</td>\n",
       "      <td>-0.489798</td>\n",
       "      <td>-0.304601</td>\n",
       "      <td>-0.052833</td>\n",
       "      <td>-0.148488</td>\n",
       "      <td>-0.045739</td>\n",
       "    </tr>\n",
       "    <tr>\n",
       "      <th>3</th>\n",
       "      <td>1.163280</td>\n",
       "      <td>-1.610059</td>\n",
       "      <td>0.432682</td>\n",
       "      <td>1.541259</td>\n",
       "      <td>-0.547459</td>\n",
       "      <td>-0.767774</td>\n",
       "      <td>-1.439966</td>\n",
       "      <td>-0.242808</td>\n",
       "      <td>0.997072</td>\n",
       "      <td>-1.084761</td>\n",
       "      <td>...</td>\n",
       "      <td>-0.109416</td>\n",
       "      <td>2.552212</td>\n",
       "      <td>-0.495253</td>\n",
       "      <td>-0.4252</td>\n",
       "      <td>-0.514795</td>\n",
       "      <td>-0.489798</td>\n",
       "      <td>-0.304601</td>\n",
       "      <td>-0.052833</td>\n",
       "      <td>-0.148488</td>\n",
       "      <td>-0.045739</td>\n",
       "    </tr>\n",
       "    <tr>\n",
       "      <th>4</th>\n",
       "      <td>0.832425</td>\n",
       "      <td>-1.395005</td>\n",
       "      <td>-0.759893</td>\n",
       "      <td>1.541259</td>\n",
       "      <td>-0.800749</td>\n",
       "      <td>-0.767774</td>\n",
       "      <td>-1.439966</td>\n",
       "      <td>-0.242808</td>\n",
       "      <td>0.997072</td>\n",
       "      <td>-1.084761</td>\n",
       "      <td>...</td>\n",
       "      <td>-0.109416</td>\n",
       "      <td>2.552212</td>\n",
       "      <td>-0.495253</td>\n",
       "      <td>-0.4252</td>\n",
       "      <td>-0.514795</td>\n",
       "      <td>-0.489798</td>\n",
       "      <td>-0.304601</td>\n",
       "      <td>-0.052833</td>\n",
       "      <td>-0.148488</td>\n",
       "      <td>-0.045739</td>\n",
       "    </tr>\n",
       "  </tbody>\n",
       "</table>\n",
       "<p>5 rows × 44 columns</p>\n",
       "</div>"
      ],
      "text/plain": [
       "      Price  Age_08_04  Mfg_Month  Mfg_Year        KM        HP  Met_Color  \\\n",
       "0  0.763497  -1.771349   1.327114  1.541259 -0.574495 -0.767774   0.693977   \n",
       "1  0.832425  -1.771349   1.327114  1.541259  0.117413 -0.767774   0.693977   \n",
       "2  0.887567  -1.717586   1.028970  1.541259 -0.715137 -0.767774   0.693977   \n",
       "3  1.163280  -1.610059   0.432682  1.541259 -0.547459 -0.767774  -1.439966   \n",
       "4  0.832425  -1.395005  -0.759893  1.541259 -0.800749 -0.767774  -1.439966   \n",
       "\n",
       "   Automatic        CC     Doors  ...  Fuel_Type_CNG  Color_Black  Color_Blue  \\\n",
       "0  -0.242808  0.997072 -1.084761  ...      -0.109416    -0.391544    2.017763   \n",
       "1  -0.242808  0.997072 -1.084761  ...      -0.109416    -0.391544   -0.495253   \n",
       "2  -0.242808  0.997072 -1.084761  ...      -0.109416    -0.391544    2.017763   \n",
       "3  -0.242808  0.997072 -1.084761  ...      -0.109416     2.552212   -0.495253   \n",
       "4  -0.242808  0.997072 -1.084761  ...      -0.109416     2.552212   -0.495253   \n",
       "\n",
       "   Color_Green  Color_Grey  Color_Red  Color_Silver  Color_Violet  \\\n",
       "0      -0.4252   -0.514795  -0.489798     -0.304601     -0.052833   \n",
       "1      -0.4252   -0.514795  -0.489798      3.280700     -0.052833   \n",
       "2      -0.4252   -0.514795  -0.489798     -0.304601     -0.052833   \n",
       "3      -0.4252   -0.514795  -0.489798     -0.304601     -0.052833   \n",
       "4      -0.4252   -0.514795  -0.489798     -0.304601     -0.052833   \n",
       "\n",
       "   Color_White  Color_Yellow  \n",
       "0    -0.148488     -0.045739  \n",
       "1    -0.148488     -0.045739  \n",
       "2    -0.148488     -0.045739  \n",
       "3    -0.148488     -0.045739  \n",
       "4    -0.148488     -0.045739  \n",
       "\n",
       "[5 rows x 44 columns]"
      ]
     },
     "execution_count": 65,
     "metadata": {},
     "output_type": "execute_result"
    }
   ],
   "source": [
    "# Pandas uses sample standard deviation\n",
    "\n",
    "used_car_df_norm = (used_car_df - used_car_df.mean())/used_car_df.std()\n",
    "\n",
    "used_car_df_norm.head()"
   ]
  },
  {
   "cell_type": "code",
   "execution_count": 66,
   "metadata": {},
   "outputs": [
    {
     "data": {
      "text/plain": [
       "(1436, 44)"
      ]
     },
     "execution_count": 66,
     "metadata": {},
     "output_type": "execute_result"
    }
   ],
   "source": [
    "used_car_df.describe().transpose()\n",
    "used_car_df.shape"
   ]
  },
  {
   "cell_type": "code",
   "execution_count": 67,
   "metadata": {},
   "outputs": [
    {
     "data": {
      "text/plain": [
       "<matplotlib.axes._subplots.AxesSubplot at 0x2056fbfd670>"
      ]
     },
     "execution_count": 67,
     "metadata": {},
     "output_type": "execute_result"
    },
    {
     "data": {
      "image/png": "[encoded data removed]",
      "text/plain": [
       "<Figure size 432x288 with 1 Axes>"
      ]
     },
     "metadata": {
      "needs_background": "light"
     },
     "output_type": "display_data"
    }
   ],
   "source": [
    "sns.distplot(used_car_df['KM'])"
   ]
  },
  {
   "cell_type": "code",
   "execution_count": 68,
   "metadata": {},
   "outputs": [
    {
     "data": {
      "text/plain": [
       "<matplotlib.axes._subplots.AxesSubplot at 0x2056fb8ec40>"
      ]
     },
     "execution_count": 68,
     "metadata": {},
     "output_type": "execute_result"
    },
    {
     "data": {
      "image/png": "[encoded data removed]",
      "text/plain": [
       "<Figure size 432x288 with 1 Axes>"
      ]
     },
     "metadata": {
      "needs_background": "light"
     },
     "output_type": "display_data"
    }
   ],
   "source": [
    "sns.distplot(used_car_df['Price'])"
   ]
  },
  {
   "cell_type": "markdown",
   "metadata": {},
   "source": [
    "# let us check the colinearity of different features"
   ]
  },
  {
   "cell_type": "code",
   "execution_count": 69,
   "metadata": {},
   "outputs": [],
   "source": [
    "# importing seaborn for statistical plots\n",
    "#import seaborn as sns\n",
    "#used_car_df_attr=car_df.iloc[:,1:15]\n",
    "\n",
    "#sns.pairplot(used_car_df_attr,diag_kind='kde')  # kde is kernel density estimates\n",
    "#sns.pairplot(used_car_df,diag_kind='kde')"
   ]
  },
  {
   "cell_type": "code",
   "execution_count": 70,
   "metadata": {},
   "outputs": [],
   "source": [
    "#corr=used_car_df.corr()\n",
    "#corr"
   ]
  },
  {
   "cell_type": "code",
   "execution_count": 71,
   "metadata": {},
   "outputs": [],
   "source": [
    "# segregation of data into dependent and independent variables\n",
    "# copy of all the predictor variables into x dataframe.since 'price' is a dependent variable then drop it\n",
    "x=used_car_df.drop('Price',axis=1)\n",
    "\n",
    "\n",
    "# copy of 'price' column alone into the y dataframe.it is dependent variable\n",
    "y=used_car_df[['Price']]"
   ]
  },
  {
   "cell_type": "code",
   "execution_count": 72,
   "metadata": {},
   "outputs": [],
   "source": [
    "# let us break the x and y dataframes into training set and test set.for this we\n",
    "# will use sklearn package's data splitting function which is based on random function\n",
    "from sklearn.model_selection import train_test_split"
   ]
  },
  {
   "cell_type": "code",
   "execution_count": 73,
   "metadata": {},
   "outputs": [],
   "source": [
    "# split x and y into training and test set in 70:30 ratio\n",
    "x_train,x_test,y_train,y_test=train_test_split(x,y,test_size=0.30,random_state=1)"
   ]
  },
  {
   "cell_type": "code",
   "execution_count": 74,
   "metadata": {},
   "outputs": [
    {
     "data": {
      "text/plain": [
       "LinearRegression()"
      ]
     },
     "execution_count": 74,
     "metadata": {},
     "output_type": "execute_result"
    }
   ],
   "source": [
    "# invoke the linear regression function and find the best fit model on training data\n",
    "from sklearn.linear_model import LinearRegression\n",
    "regression_model=LinearRegression()  # class becomes object\n",
    "regression_model.fit(x_train,y_train)"
   ]
  },
  {
   "cell_type": "code",
   "execution_count": 75,
   "metadata": {},
   "outputs": [
    {
     "name": "stdout",
     "output_type": "stream",
     "text": [
      "the coefficient for Age_08_04 is -117.66095503398692\n",
      "the coefficient for Mfg_Month is -90.95161614446666\n",
      "the coefficient for Mfg_Year is 17.384380931494867\n",
      "the coefficient for KM is -0.016435826792450526\n",
      "the coefficient for HP is 53.81135130716116\n",
      "the coefficient for Met_Color is -45.091480894020066\n",
      "the coefficient for Automatic is 561.795617593295\n",
      "the coefficient for CC is -3.6471894423125453\n",
      "the coefficient for Doors is 112.99609408801433\n",
      "the coefficient for Gears is -36.52441418075294\n",
      "the coefficient for Quarterly_Tax is 14.873289139032584\n",
      "the coefficient for Weight is 8.116806728154554\n",
      "the coefficient for Mfr_Guarantee is 202.4982350650559\n",
      "the coefficient for BOVAG_Guarantee is 421.9477748880064\n",
      "the coefficient for Guarantee_Period is 73.65842276626901\n",
      "the coefficient for ABS is -164.0665868381994\n",
      "the coefficient for Airbag_1 is 83.00302430999783\n",
      "the coefficient for Airbag_2 is -154.83281587986005\n",
      "the coefficient for Airco is 248.28599698250196\n",
      "the coefficient for Automatic_airco is 2300.5122787060227\n",
      "the coefficient for Boardcomputer is -416.21715676272044\n",
      "the coefficient for CD_Player is 189.702973898811\n",
      "the coefficient for Central_Lock is 36.89581804201108\n",
      "the coefficient for Powered_Windows is 324.4156963202046\n",
      "the coefficient for Power_Steering is -321.48445306817234\n",
      "the coefficient for Radio is -404.62511872644956\n",
      "the coefficient for Mistlamps is -9.081415609578857\n",
      "the coefficient for Sport_Model is 355.45740375963277\n",
      "the coefficient for Backseat_Divider is -42.04888164387123\n",
      "the coefficient for Metallic_Rim is 254.95920317104773\n",
      "the coefficient for Radio_cassette is 385.73966250764016\n",
      "the coefficient for Tow_Bar is -104.62300497090908\n",
      "the coefficient for Fuel_Type_1 is -1470.0424613673292\n",
      "the coefficient for Fuel_Type_CNG is -3658.205966125118\n",
      "the coefficient for Color_Black is 294.50274361745124\n",
      "the coefficient for Color_Blue is 194.81091940100083\n",
      "the coefficient for Color_Green is -99.6029936467188\n",
      "the coefficient for Color_Grey is 279.3595315258016\n",
      "the coefficient for Color_Red is 19.54244247209939\n",
      "the coefficient for Color_Silver is 263.8221879180074\n",
      "the coefficient for Color_Violet is -96.86205767507037\n",
      "the coefficient for Color_White is -259.24001994325357\n",
      "the coefficient for Color_Yellow is 293.6329696613635\n"
     ]
    }
   ],
   "source": [
    "# let us explore the coefficients for each of the independent attributes\n",
    "for idx,col_name in enumerate(x_train.columns):\n",
    "    print(\"the coefficient for {} is {}\".format(col_name,regression_model.coef_[0][idx]))"
   ]
  },
  {
   "cell_type": "code",
   "execution_count": 76,
   "metadata": {},
   "outputs": [
    {
     "data": {
      "text/plain": [
       "-25400.81746279158"
      ]
     },
     "execution_count": 76,
     "metadata": {},
     "output_type": "execute_result"
    }
   ],
   "source": [
    "# let us check the intercept for the model\n",
    "intercept=regression_model.intercept_[0]\n",
    "intercept"
   ]
  },
  {
   "cell_type": "code",
   "execution_count": 77,
   "metadata": {},
   "outputs": [
    {
     "data": {
      "text/plain": [
       "0.40949081641740404"
      ]
     },
     "execution_count": 77,
     "metadata": {},
     "output_type": "execute_result"
    }
   ],
   "source": [
    "regression_model.score(x_test,y_test)  # initial R^2 value check"
   ]
  },
  {
   "cell_type": "code",
   "execution_count": 93,
   "metadata": {},
   "outputs": [
    {
     "name": "stdout",
     "output_type": "stream",
     "text": [
      "[[11581.52224394]\n",
      " [10291.70347546]\n",
      " [13192.39022859]\n",
      " [ 6114.41096764]\n",
      " [13104.83104663]\n",
      " [17253.83175094]\n",
      " [ 7676.64993255]\n",
      " [ 8836.8304951 ]\n",
      " [ 7281.62864067]\n",
      " [12074.00880646]]\n"
     ]
    }
   ],
   "source": [
    "y_pred=regression_model.predict(x_test)\n",
    "print(y_pred[0:10])"
   ]
  },
  {
   "cell_type": "markdown",
   "metadata": {},
   "source": [
    "# checking initial RMSE and MSE for the entire data"
   ]
  },
  {
   "cell_type": "code",
   "execution_count": 94,
   "metadata": {},
   "outputs": [
    {
     "name": "stdout",
     "output_type": "stream",
     "text": [
      "MSE: 7480677.540340143\n",
      "RMSE: 2735.0827300723727\n"
     ]
    }
   ],
   "source": [
    "from math import sqrt\n",
    "from sklearn.metrics import mean_squared_error \n",
    "mse=mean_squared_error(y_test,y_pred)\n",
    "rmse=np.sqrt(mse)\n",
    "\n",
    "print('MSE:', mse)\n",
    "print('RMSE:', rmse)"
   ]
  },
  {
   "cell_type": "code",
   "execution_count": 79,
   "metadata": {},
   "outputs": [
    {
     "data": {
      "text/plain": [
       "(1436, 44)"
      ]
     },
     "execution_count": 79,
     "metadata": {},
     "output_type": "execute_result"
    }
   ],
   "source": [
    "used_car_df.shape"
   ]
  },
  {
   "cell_type": "code",
   "execution_count": 80,
   "metadata": {},
   "outputs": [
    {
     "data": {
      "text/plain": [
       "['Price',\n",
       " 'Age_08_04',\n",
       " 'Mfg_Month',\n",
       " 'Mfg_Year',\n",
       " 'KM',\n",
       " 'HP',\n",
       " 'Met_Color',\n",
       " 'Automatic',\n",
       " 'CC',\n",
       " 'Doors',\n",
       " 'Gears',\n",
       " 'Quarterly_Tax',\n",
       " 'Weight',\n",
       " 'Mfr_Guarantee',\n",
       " 'BOVAG_Guarantee',\n",
       " 'Guarantee_Period',\n",
       " 'ABS',\n",
       " 'Airbag_1',\n",
       " 'Airbag_2',\n",
       " 'Airco',\n",
       " 'Automatic_airco',\n",
       " 'Boardcomputer',\n",
       " 'CD_Player',\n",
       " 'Central_Lock',\n",
       " 'Powered_Windows',\n",
       " 'Power_Steering',\n",
       " 'Radio',\n",
       " 'Mistlamps',\n",
       " 'Sport_Model',\n",
       " 'Backseat_Divider',\n",
       " 'Metallic_Rim',\n",
       " 'Radio_cassette',\n",
       " 'Tow_Bar',\n",
       " 'Fuel_Type_1',\n",
       " 'Fuel_Type_CNG',\n",
       " 'Color_Black',\n",
       " 'Color_Blue',\n",
       " 'Color_Green',\n",
       " 'Color_Grey',\n",
       " 'Color_Red',\n",
       " 'Color_Silver',\n",
       " 'Color_Violet',\n",
       " 'Color_White',\n",
       " 'Color_Yellow']"
      ]
     },
     "execution_count": 80,
     "metadata": {},
     "output_type": "execute_result"
    }
   ],
   "source": [
    "# to get the list of column names\n",
    "names=[i for i in list(used_car_df)]\n",
    "names"
   ]
  },
  {
   "cell_type": "code",
   "execution_count": 81,
   "metadata": {},
   "outputs": [
    {
     "data": {
      "text/html": [
       "<div>\n",
       "<style scoped>\n",
       "    .dataframe tbody tr th:only-of-type {\n",
       "        vertical-align: middle;\n",
       "    }\n",
       "\n",
       "    .dataframe tbody tr th {\n",
       "        vertical-align: top;\n",
       "    }\n",
       "\n",
       "    .dataframe thead th {\n",
       "        text-align: right;\n",
       "    }\n",
       "</style>\n",
       "<table border=\"1\" class=\"dataframe\">\n",
       "  <thead>\n",
       "    <tr style=\"text-align: right;\">\n",
       "      <th></th>\n",
       "      <th>names</th>\n",
       "      <th>coefficient</th>\n",
       "    </tr>\n",
       "  </thead>\n",
       "  <tbody>\n",
       "    <tr>\n",
       "      <th>0</th>\n",
       "      <td>Price</td>\n",
       "      <td>-117.660955</td>\n",
       "    </tr>\n",
       "    <tr>\n",
       "      <th>1</th>\n",
       "      <td>Age_08_04</td>\n",
       "      <td>-90.951616</td>\n",
       "    </tr>\n",
       "    <tr>\n",
       "      <th>2</th>\n",
       "      <td>Mfg_Month</td>\n",
       "      <td>17.384381</td>\n",
       "    </tr>\n",
       "    <tr>\n",
       "      <th>3</th>\n",
       "      <td>Mfg_Year</td>\n",
       "      <td>-0.016436</td>\n",
       "    </tr>\n",
       "    <tr>\n",
       "      <th>4</th>\n",
       "      <td>KM</td>\n",
       "      <td>53.811351</td>\n",
       "    </tr>\n",
       "    <tr>\n",
       "      <th>5</th>\n",
       "      <td>HP</td>\n",
       "      <td>-45.091481</td>\n",
       "    </tr>\n",
       "    <tr>\n",
       "      <th>6</th>\n",
       "      <td>Met_Color</td>\n",
       "      <td>561.795618</td>\n",
       "    </tr>\n",
       "    <tr>\n",
       "      <th>7</th>\n",
       "      <td>Automatic</td>\n",
       "      <td>-3.647189</td>\n",
       "    </tr>\n",
       "    <tr>\n",
       "      <th>8</th>\n",
       "      <td>CC</td>\n",
       "      <td>112.996094</td>\n",
       "    </tr>\n",
       "    <tr>\n",
       "      <th>9</th>\n",
       "      <td>Doors</td>\n",
       "      <td>-36.524414</td>\n",
       "    </tr>\n",
       "    <tr>\n",
       "      <th>10</th>\n",
       "      <td>Gears</td>\n",
       "      <td>14.873289</td>\n",
       "    </tr>\n",
       "    <tr>\n",
       "      <th>11</th>\n",
       "      <td>Quarterly_Tax</td>\n",
       "      <td>8.116807</td>\n",
       "    </tr>\n",
       "    <tr>\n",
       "      <th>12</th>\n",
       "      <td>Weight</td>\n",
       "      <td>202.498235</td>\n",
       "    </tr>\n",
       "    <tr>\n",
       "      <th>13</th>\n",
       "      <td>Mfr_Guarantee</td>\n",
       "      <td>421.947775</td>\n",
       "    </tr>\n",
       "    <tr>\n",
       "      <th>14</th>\n",
       "      <td>BOVAG_Guarantee</td>\n",
       "      <td>73.658423</td>\n",
       "    </tr>\n",
       "    <tr>\n",
       "      <th>15</th>\n",
       "      <td>Guarantee_Period</td>\n",
       "      <td>-164.066587</td>\n",
       "    </tr>\n",
       "    <tr>\n",
       "      <th>16</th>\n",
       "      <td>ABS</td>\n",
       "      <td>83.003024</td>\n",
       "    </tr>\n",
       "    <tr>\n",
       "      <th>17</th>\n",
       "      <td>Airbag_1</td>\n",
       "      <td>-154.832816</td>\n",
       "    </tr>\n",
       "    <tr>\n",
       "      <th>18</th>\n",
       "      <td>Airbag_2</td>\n",
       "      <td>248.285997</td>\n",
       "    </tr>\n",
       "    <tr>\n",
       "      <th>19</th>\n",
       "      <td>Airco</td>\n",
       "      <td>2300.512279</td>\n",
       "    </tr>\n",
       "    <tr>\n",
       "      <th>20</th>\n",
       "      <td>Automatic_airco</td>\n",
       "      <td>-416.217157</td>\n",
       "    </tr>\n",
       "    <tr>\n",
       "      <th>21</th>\n",
       "      <td>Boardcomputer</td>\n",
       "      <td>189.702974</td>\n",
       "    </tr>\n",
       "    <tr>\n",
       "      <th>22</th>\n",
       "      <td>CD_Player</td>\n",
       "      <td>36.895818</td>\n",
       "    </tr>\n",
       "    <tr>\n",
       "      <th>23</th>\n",
       "      <td>Central_Lock</td>\n",
       "      <td>324.415696</td>\n",
       "    </tr>\n",
       "    <tr>\n",
       "      <th>24</th>\n",
       "      <td>Powered_Windows</td>\n",
       "      <td>-321.484453</td>\n",
       "    </tr>\n",
       "    <tr>\n",
       "      <th>25</th>\n",
       "      <td>Power_Steering</td>\n",
       "      <td>-404.625119</td>\n",
       "    </tr>\n",
       "    <tr>\n",
       "      <th>26</th>\n",
       "      <td>Radio</td>\n",
       "      <td>-9.081416</td>\n",
       "    </tr>\n",
       "    <tr>\n",
       "      <th>27</th>\n",
       "      <td>Mistlamps</td>\n",
       "      <td>355.457404</td>\n",
       "    </tr>\n",
       "    <tr>\n",
       "      <th>28</th>\n",
       "      <td>Sport_Model</td>\n",
       "      <td>-42.048882</td>\n",
       "    </tr>\n",
       "    <tr>\n",
       "      <th>29</th>\n",
       "      <td>Backseat_Divider</td>\n",
       "      <td>254.959203</td>\n",
       "    </tr>\n",
       "    <tr>\n",
       "      <th>30</th>\n",
       "      <td>Metallic_Rim</td>\n",
       "      <td>385.739663</td>\n",
       "    </tr>\n",
       "    <tr>\n",
       "      <th>31</th>\n",
       "      <td>Radio_cassette</td>\n",
       "      <td>-104.623005</td>\n",
       "    </tr>\n",
       "    <tr>\n",
       "      <th>32</th>\n",
       "      <td>Tow_Bar</td>\n",
       "      <td>-1470.042461</td>\n",
       "    </tr>\n",
       "    <tr>\n",
       "      <th>33</th>\n",
       "      <td>Fuel_Type_1</td>\n",
       "      <td>-3658.205966</td>\n",
       "    </tr>\n",
       "    <tr>\n",
       "      <th>34</th>\n",
       "      <td>Fuel_Type_CNG</td>\n",
       "      <td>294.502744</td>\n",
       "    </tr>\n",
       "    <tr>\n",
       "      <th>35</th>\n",
       "      <td>Color_Black</td>\n",
       "      <td>194.810919</td>\n",
       "    </tr>\n",
       "    <tr>\n",
       "      <th>36</th>\n",
       "      <td>Color_Blue</td>\n",
       "      <td>-99.602994</td>\n",
       "    </tr>\n",
       "    <tr>\n",
       "      <th>37</th>\n",
       "      <td>Color_Green</td>\n",
       "      <td>279.359532</td>\n",
       "    </tr>\n",
       "    <tr>\n",
       "      <th>38</th>\n",
       "      <td>Color_Grey</td>\n",
       "      <td>19.542442</td>\n",
       "    </tr>\n",
       "    <tr>\n",
       "      <th>39</th>\n",
       "      <td>Color_Red</td>\n",
       "      <td>263.822188</td>\n",
       "    </tr>\n",
       "    <tr>\n",
       "      <th>40</th>\n",
       "      <td>Color_Silver</td>\n",
       "      <td>-96.862058</td>\n",
       "    </tr>\n",
       "    <tr>\n",
       "      <th>41</th>\n",
       "      <td>Color_Violet</td>\n",
       "      <td>-259.240020</td>\n",
       "    </tr>\n",
       "    <tr>\n",
       "      <th>42</th>\n",
       "      <td>Color_White</td>\n",
       "      <td>293.632970</td>\n",
       "    </tr>\n",
       "  </tbody>\n",
       "</table>\n",
       "</div>"
      ],
      "text/plain": [
       "               names  coefficient\n",
       "0              Price  -117.660955\n",
       "1          Age_08_04   -90.951616\n",
       "2          Mfg_Month    17.384381\n",
       "3           Mfg_Year    -0.016436\n",
       "4                 KM    53.811351\n",
       "5                 HP   -45.091481\n",
       "6          Met_Color   561.795618\n",
       "7          Automatic    -3.647189\n",
       "8                 CC   112.996094\n",
       "9              Doors   -36.524414\n",
       "10             Gears    14.873289\n",
       "11     Quarterly_Tax     8.116807\n",
       "12            Weight   202.498235\n",
       "13     Mfr_Guarantee   421.947775\n",
       "14   BOVAG_Guarantee    73.658423\n",
       "15  Guarantee_Period  -164.066587\n",
       "16               ABS    83.003024\n",
       "17          Airbag_1  -154.832816\n",
       "18          Airbag_2   248.285997\n",
       "19             Airco  2300.512279\n",
       "20   Automatic_airco  -416.217157\n",
       "21     Boardcomputer   189.702974\n",
       "22         CD_Player    36.895818\n",
       "23      Central_Lock   324.415696\n",
       "24   Powered_Windows  -321.484453\n",
       "25    Power_Steering  -404.625119\n",
       "26             Radio    -9.081416\n",
       "27         Mistlamps   355.457404\n",
       "28       Sport_Model   -42.048882\n",
       "29  Backseat_Divider   254.959203\n",
       "30      Metallic_Rim   385.739663\n",
       "31    Radio_cassette  -104.623005\n",
       "32           Tow_Bar -1470.042461\n",
       "33       Fuel_Type_1 -3658.205966\n",
       "34     Fuel_Type_CNG   294.502744\n",
       "35       Color_Black   194.810919\n",
       "36        Color_Blue   -99.602994\n",
       "37       Color_Green   279.359532\n",
       "38        Color_Grey    19.542442\n",
       "39         Color_Red   263.822188\n",
       "40      Color_Silver   -96.862058\n",
       "41      Color_Violet  -259.240020\n",
       "42       Color_White   293.632970"
      ]
     },
     "execution_count": 81,
     "metadata": {},
     "output_type": "execute_result"
    }
   ],
   "source": [
    "# printing column names and coefficents together for better interpretability\n",
    "pd.DataFrame(zip(names,regression_model.coef_[0].tolist()),columns=['names','coefficient'])"
   ]
  },
  {
   "cell_type": "code",
   "execution_count": 82,
   "metadata": {},
   "outputs": [
    {
     "data": {
      "text/plain": [
       "-25400.81746279158"
      ]
     },
     "execution_count": 82,
     "metadata": {},
     "output_type": "execute_result"
    }
   ],
   "source": [
    "intercept"
   ]
  },
  {
   "cell_type": "code",
   "execution_count": 83,
   "metadata": {},
   "outputs": [],
   "source": [
    "#slope,y_intercept = best_fit_line(x_train,y_train)"
   ]
  },
  {
   "cell_type": "code",
   "execution_count": 84,
   "metadata": {},
   "outputs": [],
   "source": [
    "# regression_line = [(slope*x) + intercept for x in x_train]"
   ]
  },
  {
   "cell_type": "code",
   "execution_count": 85,
   "metadata": {},
   "outputs": [
    {
     "data": {
      "image/png": "[encoded data removed]",
      "text/plain": [
       "<Figure size 432x288 with 1 Axes>"
      ]
     },
     "metadata": {
      "needs_background": "light"
     },
     "output_type": "display_data"
    }
   ],
   "source": [
    "# plot predicted x_test and y_test values\n",
    "# import seaborn as sns\n",
    "# style.use('sns')\n",
    "plt.scatter(regression_model.predict(x_train),y_train,label='data points',alpha=0.9,color='green',s=15)\n",
    "plt.plot()\n",
    "plt.grid()\n",
    "plt.show()"
   ]
  },
  {
   "cell_type": "markdown",
   "metadata": {},
   "source": [
    "# linear regression using statsmodels\n",
    "# training for all the features"
   ]
  },
  {
   "cell_type": "code",
   "execution_count": 86,
   "metadata": {},
   "outputs": [],
   "source": [
    "import statsmodels.api as sm\n",
    "x_with_constant=sm.add_constant(x_train)\n",
    "model=sm.OLS(y_train,x_with_constant)"
   ]
  },
  {
   "cell_type": "code",
   "execution_count": 87,
   "metadata": {},
   "outputs": [
    {
     "name": "stdout",
     "output_type": "stream",
     "text": [
      "                            OLS Regression Results                            \n",
      "==============================================================================\n",
      "Dep. Variable:                  Price   R-squared:                       0.912\n",
      "Model:                            OLS   Adj. R-squared:                  0.908\n",
      "Method:                 Least Squares   F-statistic:                     236.1\n",
      "Date:                Sun, 11 Jul 2021   Prob (F-statistic):               0.00\n",
      "Time:                        13:59:19   Log-Likelihood:                -8451.7\n",
      "No. Observations:                1005   AIC:                         1.699e+04\n",
      "Df Residuals:                     962   BIC:                         1.720e+04\n",
      "Df Model:                          42                                         \n",
      "Covariance Type:            nonrobust                                         \n",
      "====================================================================================\n",
      "                       coef    std err          t      P>|t|      [0.025      0.975]\n",
      "------------------------------------------------------------------------------------\n",
      "const               -0.0064      0.001     -9.490      0.000      -0.008      -0.005\n",
      "Age_08_04         -118.7168      4.165    -28.503      0.000    -126.890    -110.543\n",
      "Mfg_Month          -92.0075     11.052     -8.325      0.000    -113.696     -70.319\n",
      "Mfg_Year             4.7141      1.088      4.331      0.000       2.578       6.850\n",
      "KM                  -0.0164      0.001    -11.895      0.000      -0.019      -0.014\n",
      "HP                  53.8114      5.981      8.998      0.000      42.075      65.548\n",
      "Met_Color          -45.0915     86.265     -0.523      0.601    -214.381     124.198\n",
      "Automatic          561.7956    157.450      3.568      0.000     252.811     870.780\n",
      "CC                  -3.6472      0.572     -6.381      0.000      -4.769      -2.525\n",
      "Doors              112.9961     43.668      2.588      0.010      27.300     198.692\n",
      "Gears              -36.5244    205.814     -0.177      0.859    -440.421     367.372\n",
      "Quarterly_Tax       14.8733      1.932      7.698      0.000      11.082      18.665\n",
      "Weight               8.1168      1.260      6.442      0.000       5.644      10.589\n",
      "Mfr_Guarantee      202.4982     78.717      2.572      0.010      48.022     356.974\n",
      "BOVAG_Guarantee    421.9478    138.091      3.056      0.002     150.953     692.942\n",
      "Guarantee_Period    73.6584     14.793      4.979      0.000      44.627     102.690\n",
      "ABS               -164.0666    138.243     -1.187      0.236    -435.360     107.226\n",
      "Airbag_1            83.0030    297.083      0.279      0.780    -500.003     666.009\n",
      "Airbag_2          -154.8328    142.086     -1.090      0.276    -433.668     124.002\n",
      "Airco              248.2860     95.858      2.590      0.010      60.170     436.402\n",
      "Automatic_airco   2300.5123    198.683     11.579      0.000    1910.611    2690.414\n",
      "Boardcomputer     -416.2172    123.952     -3.358      0.001    -659.465    -172.969\n",
      "CD_Player          189.7030    106.602      1.780      0.075     -19.497     398.903\n",
      "Central_Lock        36.8958    160.546      0.230      0.818    -278.165     351.957\n",
      "Powered_Windows    324.4157    160.473      2.022      0.043       9.497     639.334\n",
      "Power_Steering    -321.4845    335.203     -0.959      0.338    -979.298     336.329\n",
      "Radio             -404.6251    815.141     -0.496      0.620   -2004.285    1195.035\n",
      "Mistlamps           -9.0814    114.453     -0.079      0.937    -233.687     215.524\n",
      "Sport_Model        355.4574     92.715      3.834      0.000     173.511     537.404\n",
      "Backseat_Divider   -42.0489    140.153     -0.300      0.764    -317.089     232.992\n",
      "Metallic_Rim       254.9592    102.882      2.478      0.013      53.061     456.857\n",
      "Radio_cassette     385.7397    817.230      0.472      0.637   -1218.020    1989.499\n",
      "Tow_Bar           -104.6230     86.025     -1.216      0.224    -273.441      64.195\n",
      "Fuel_Type_1      -1470.0425    497.306     -2.956      0.003   -2445.973    -494.112\n",
      "Fuel_Type_CNG    -3658.2060    553.230     -6.612      0.000   -4743.882   -2572.530\n",
      "Color_Black        294.5027    802.924      0.367      0.714   -1281.182    1870.187\n",
      "Color_Blue         194.8109    803.628      0.242      0.809   -1382.255    1771.877\n",
      "Color_Green        -99.6030    805.314     -0.124      0.902   -1679.978    1480.772\n",
      "Color_Grey         279.3595    804.807      0.347      0.729   -1300.020    1858.739\n",
      "Color_Red           19.5424    804.854      0.024      0.981   -1559.929    1599.014\n",
      "Color_Silver       263.8222    811.470      0.325      0.745   -1328.634    1856.278\n",
      "Color_Violet       -96.8621   1132.218     -0.086      0.932   -2318.765    2125.041\n",
      "Color_White       -259.2400    838.561     -0.309      0.757   -1904.860    1386.380\n",
      "Color_Yellow       293.6330   1120.975      0.262      0.793   -1906.205    2493.470\n",
      "==============================================================================\n",
      "Omnibus:                       99.823   Durbin-Watson:                   1.999\n",
      "Prob(Omnibus):                  0.000   Jarque-Bera (JB):              662.389\n",
      "Skew:                           0.108   Prob(JB):                    1.46e-144\n",
      "Kurtosis:                       6.971   Cond. No.                     1.32e+20\n",
      "==============================================================================\n",
      "\n",
      "Warnings:\n",
      "[1] Standard Errors assume that the covariance matrix of the errors is correctly specified.\n",
      "[2] The smallest eigenvalue is 3.39e-28. This might indicate that there are\n",
      "strong multicollinearity problems or that the design matrix is singular.\n"
     ]
    }
   ],
   "source": [
    "lm=model.fit()\n",
    "print(lm.summary())"
   ]
  },
  {
   "cell_type": "markdown",
   "metadata": {},
   "source": [
    "# testing for all the features"
   ]
  },
  {
   "cell_type": "code",
   "execution_count": 88,
   "metadata": {},
   "outputs": [],
   "source": [
    "import statsmodels.api as sm\n",
    "x_with_constant=sm.add_constant(x_test)\n",
    "model=sm.OLS(y_test,x_with_constant)"
   ]
  },
  {
   "cell_type": "code",
   "execution_count": 89,
   "metadata": {},
   "outputs": [
    {
     "name": "stdout",
     "output_type": "stream",
     "text": [
      "                            OLS Regression Results                            \n",
      "==============================================================================\n",
      "Dep. Variable:                  Price   R-squared:                       0.932\n",
      "Model:                            OLS   Adj. R-squared:                  0.925\n",
      "Method:                 Least Squares   F-statistic:                     126.9\n",
      "Date:                Sun, 11 Jul 2021   Prob (F-statistic):          3.48e-200\n",
      "Time:                        13:59:20   Log-Likelihood:                -3556.2\n",
      "No. Observations:                 431   AIC:                             7198.\n",
      "Df Residuals:                     388   BIC:                             7373.\n",
      "Df Model:                          42                                         \n",
      "Covariance Type:            nonrobust                                         \n",
      "====================================================================================\n",
      "                       coef    std err          t      P>|t|      [0.025      0.975]\n",
      "------------------------------------------------------------------------------------\n",
      "const               -0.0114      0.001    -11.825      0.000      -0.013      -0.009\n",
      "Age_08_04         -117.9088      6.095    -19.346      0.000    -129.892    -105.926\n",
      "Mfg_Month          -91.6221     15.316     -5.982      0.000    -121.736     -61.509\n",
      "Mfg_Year            -5.3750      1.737     -3.095      0.002      -8.789      -1.961\n",
      "KM                  -0.0143      0.002     -7.514      0.000      -0.018      -0.011\n",
      "HP                  -2.0114      5.951     -0.338      0.736     -13.711       9.688\n",
      "Met_Color         -160.1648    116.803     -1.371      0.171    -389.810      69.481\n",
      "Automatic         -317.7659    256.305     -1.240      0.216    -821.687     186.155\n",
      "CC                  -0.0535      0.074     -0.718      0.473      -0.200       0.093\n",
      "Doors              -65.1233     62.177     -1.047      0.296    -187.369      57.122\n",
      "Gears              266.6752    327.712      0.814      0.416    -377.638     910.988\n",
      "Quarterly_Tax       12.1145      2.807      4.316      0.000       6.596      17.633\n",
      "Weight              22.3677      2.689      8.319      0.000      17.082      27.654\n",
      "Mfr_Guarantee      327.3164    109.302      2.995      0.003     112.417     542.216\n",
      "BOVAG_Guarantee    649.2767    182.795      3.552      0.000     289.884    1008.669\n",
      "Guarantee_Period    41.3043     20.495      2.015      0.045       1.009      81.600\n",
      "ABS               -322.7147    185.432     -1.740      0.083    -687.291      41.862\n",
      "Airbag_1           286.0938    321.346      0.890      0.374    -345.703     917.891\n",
      "Airbag_2           -37.7870    189.129     -0.200      0.842    -409.633     334.059\n",
      "Airco              219.1067    135.018      1.623      0.105     -46.352     484.566\n",
      "Automatic_airco   2090.6111    297.908      7.018      0.000    1504.896    2676.326\n",
      "Boardcomputer     -210.6591    186.490     -1.130      0.259    -577.316     155.998\n",
      "CD_Player          172.4543    147.515      1.169      0.243    -117.574     462.483\n",
      "Central_Lock      -277.5909    195.707     -1.418      0.157    -662.371     107.189\n",
      "Powered_Windows    398.5491    194.000      2.054      0.041      17.126     779.972\n",
      "Power_Steering     379.0063    367.740      1.031      0.303    -344.007    1102.019\n",
      "Radio             2599.6957   1096.269      2.371      0.018     444.324    4755.067\n",
      "Mistlamps          112.4802    173.709      0.648      0.518    -229.049     454.009\n",
      "Sport_Model         33.7320    138.108      0.244      0.807    -237.801     305.265\n",
      "Backseat_Divider  -703.9844    183.175     -3.843      0.000   -1064.125    -343.844\n",
      "Metallic_Rim        -2.3126    140.646     -0.016      0.987    -278.836     274.211\n",
      "Radio_cassette   -2739.8975   1094.600     -2.503      0.013   -4891.988    -587.807\n",
      "Tow_Bar           -172.4346    116.439     -1.481      0.139    -401.364      56.495\n",
      "Fuel_Type_1       2435.1738    510.572      4.770      0.000    1431.340    3439.008\n",
      "Fuel_Type_CNG      567.4538    524.655      1.082      0.280    -464.068    1598.976\n",
      "Color_Black        944.9128   1017.051      0.929      0.353   -1054.708    2944.534\n",
      "Color_Blue         869.0743   1012.220      0.859      0.391   -1121.048    2859.197\n",
      "Color_Green        668.6151   1011.360      0.661      0.509   -1319.818    2657.048\n",
      "Color_Grey         972.0255   1012.160      0.960      0.337   -1017.979    2962.030\n",
      "Color_Red          904.7974   1010.450      0.895      0.371   -1081.846    2891.441\n",
      "Color_Silver       816.3392   1017.759      0.802      0.423   -1184.673    2817.351\n",
      "Color_Violet       513.2817   1254.901      0.409      0.683   -1953.975    2980.538\n",
      "Color_White      -1027.1896   1059.381     -0.970      0.333   -3110.035    1055.656\n",
      "Color_Yellow      -264.8628   1421.723     -0.186      0.852   -3060.108    2530.383\n",
      "==============================================================================\n",
      "Omnibus:                       21.210   Durbin-Watson:                   1.937\n",
      "Prob(Omnibus):                  0.000   Jarque-Bera (JB):               27.381\n",
      "Skew:                           0.431   Prob(JB):                     1.13e-06\n",
      "Kurtosis:                       3.884   Cond. No.                     2.49e+20\n",
      "==============================================================================\n",
      "\n",
      "Warnings:\n",
      "[1] Standard Errors assume that the covariance matrix of the errors is correctly specified.\n",
      "[2] The smallest eigenvalue is 4.55e-29. This might indicate that there are\n",
      "strong multicollinearity problems or that the design matrix is singular.\n"
     ]
    }
   ],
   "source": [
    "lm=model.fit()\n",
    "print(lm.summary())"
   ]
  },
  {
   "cell_type": "code",
   "execution_count": null,
   "metadata": {},
   "outputs": [],
   "source": [
    "print(used_car_df.columns)   # these are significant features\n",
    "print(used_car_df.shape)"
   ]
  },
  {
   "cell_type": "markdown",
   "metadata": {},
   "source": [
    "# Drop statistically insignificant variables which has large p-values"
   ]
  },
  {
   "cell_type": "code",
   "execution_count": 99,
   "metadata": {},
   "outputs": [
    {
     "name": "stdout",
     "output_type": "stream",
     "text": [
      "(1436, 41)\n"
     ]
    }
   ],
   "source": [
    "used_car_df.drop(['Met_Color','Gears','ABS'],axis=1,inplace=True)      # drop insignificant features i.e. p<alpha  (alpha=0.05)\n",
    "print(used_car_df.shape)"
   ]
  },
  {
   "cell_type": "code",
   "execution_count": 100,
   "metadata": {},
   "outputs": [
    {
     "name": "stdout",
     "output_type": "stream",
     "text": [
      "(1436, 35)\n"
     ]
    }
   ],
   "source": [
    "used_car_df.drop(['Airbag_1','Airbag_2','Central_Lock','Power_Steering','Radio','Mistlamps'],axis=1,inplace=True)\n",
    "print(used_car_df.shape)"
   ]
  },
  {
   "cell_type": "code",
   "execution_count": 101,
   "metadata": {},
   "outputs": [
    {
     "name": "stdout",
     "output_type": "stream",
     "text": [
      "(1436, 29)\n"
     ]
    }
   ],
   "source": [
    "used_car_df.drop(['Backseat_Divider','Radio_cassette','Tow_Bar','Color_Black','Color_Blue','Color_Green'],axis=1,inplace=True)\n",
    "print(used_car_df.shape)"
   ]
  },
  {
   "cell_type": "code",
   "execution_count": 102,
   "metadata": {},
   "outputs": [
    {
     "name": "stdout",
     "output_type": "stream",
     "text": [
      "(1436, 23)\n"
     ]
    }
   ],
   "source": [
    "used_car_df.drop(['Color_Grey','Color_Red','Color_Silver','Color_Violet','Color_White','Color_Yellow'],axis=1,inplace=True)\n",
    "print(used_car_df.shape)"
   ]
  },
  {
   "cell_type": "code",
   "execution_count": 103,
   "metadata": {},
   "outputs": [
    {
     "data": {
      "text/plain": [
       "Index(['Price', 'Age_08_04', 'Mfg_Month', 'Mfg_Year', 'KM', 'HP', 'Automatic',\n",
       "       'CC', 'Doors', 'Quarterly_Tax', 'Weight', 'Mfr_Guarantee',\n",
       "       'BOVAG_Guarantee', 'Guarantee_Period', 'Airco', 'Automatic_airco',\n",
       "       'Boardcomputer', 'CD_Player', 'Powered_Windows', 'Sport_Model',\n",
       "       'Metallic_Rim', 'Fuel_Type_1', 'Fuel_Type_CNG'],\n",
       "      dtype='object')"
      ]
     },
     "execution_count": 103,
     "metadata": {},
     "output_type": "execute_result"
    }
   ],
   "source": [
    "used_car_df.columns"
   ]
  },
  {
   "cell_type": "code",
   "execution_count": 104,
   "metadata": {},
   "outputs": [
    {
     "name": "stdout",
     "output_type": "stream",
     "text": [
      "<class 'pandas.core.frame.DataFrame'>\n",
      "RangeIndex: 1436 entries, 0 to 1435\n",
      "Data columns (total 23 columns):\n",
      " #   Column            Non-Null Count  Dtype\n",
      "---  ------            --------------  -----\n",
      " 0   Price             1436 non-null   int64\n",
      " 1   Age_08_04         1436 non-null   int64\n",
      " 2   Mfg_Month         1436 non-null   int64\n",
      " 3   Mfg_Year          1436 non-null   int64\n",
      " 4   KM                1436 non-null   int64\n",
      " 5   HP                1436 non-null   int64\n",
      " 6   Automatic         1436 non-null   int64\n",
      " 7   CC                1436 non-null   int64\n",
      " 8   Doors             1436 non-null   int64\n",
      " 9   Quarterly_Tax     1436 non-null   int64\n",
      " 10  Weight            1436 non-null   int64\n",
      " 11  Mfr_Guarantee     1436 non-null   int64\n",
      " 12  BOVAG_Guarantee   1436 non-null   int64\n",
      " 13  Guarantee_Period  1436 non-null   int64\n",
      " 14  Airco             1436 non-null   int64\n",
      " 15  Automatic_airco   1436 non-null   int64\n",
      " 16  Boardcomputer     1436 non-null   int64\n",
      " 17  CD_Player         1436 non-null   int64\n",
      " 18  Powered_Windows   1436 non-null   int64\n",
      " 19  Sport_Model       1436 non-null   int64\n",
      " 20  Metallic_Rim      1436 non-null   int64\n",
      " 21  Fuel_Type_1       1436 non-null   uint8\n",
      " 22  Fuel_Type_CNG     1436 non-null   uint8\n",
      "dtypes: int64(21), uint8(2)\n",
      "memory usage: 238.5 KB\n"
     ]
    }
   ],
   "source": [
    "used_car_df.info()"
   ]
  },
  {
   "cell_type": "markdown",
   "metadata": {},
   "source": [
    "# check the Normal Distribution Curve"
   ]
  },
  {
   "cell_type": "code",
   "execution_count": null,
   "metadata": {},
   "outputs": [],
   "source": [
    "# importing seaborn for statistical plots             # \n",
    "#import seaborn as sns\n",
    "#used_car_df_attr=used_car_df.iloc[:,1:10]\n",
    "\n",
    "#sns.pairplot(car_df_attr,diag_kind='kde')  # kde is kernel density estimates\n",
    "#sns.pairplot(used_car_df,diag_kind='kde')"
   ]
  },
  {
   "cell_type": "code",
   "execution_count": 105,
   "metadata": {},
   "outputs": [],
   "source": [
    "# segregation of data into dependent and independent variables\n",
    "# copy of all the predictor variables into x dataframe.since 'price' is a dependent variable then drop it\n",
    "x=used_car_df.drop('Price',axis=1)\n",
    "\n",
    "\n",
    "# copy of 'price' column alone into the y dataframe.it is dependent variable\n",
    "y=used_car_df[['Price']]"
   ]
  },
  {
   "cell_type": "code",
   "execution_count": 106,
   "metadata": {},
   "outputs": [],
   "source": [
    "# let us break the x and y dataframes into training set and test set.for this we\n",
    "# will use sklearn package's data splitting function which is based on random function\n",
    "from sklearn.model_selection import train_test_split"
   ]
  },
  {
   "cell_type": "code",
   "execution_count": 107,
   "metadata": {},
   "outputs": [],
   "source": [
    "# split x and y into training and test set in 70:30 ratio\n",
    "x_train,x_test,y_train,y_test=train_test_split(x,y,test_size=0.30,random_state=1)"
   ]
  },
  {
   "cell_type": "code",
   "execution_count": 108,
   "metadata": {},
   "outputs": [
    {
     "data": {
      "text/plain": [
       "LinearRegression()"
      ]
     },
     "execution_count": 108,
     "metadata": {},
     "output_type": "execute_result"
    }
   ],
   "source": [
    "# invoke the linear regression function and find the best fit model on training data\n",
    "from sklearn.linear_model import LinearRegression\n",
    "regression_model=LinearRegression()  # class becomes object\n",
    "regression_model.fit(x_train,y_train)"
   ]
  },
  {
   "cell_type": "code",
   "execution_count": 109,
   "metadata": {},
   "outputs": [
    {
     "name": "stdout",
     "output_type": "stream",
     "text": [
      "the coefficient for Age_08_04 is -115.62817996965332\n",
      "the coefficient for Mfg_Month is -87.83841923811184\n",
      "the coefficient for Mfg_Year is 16.95554993397396\n",
      "the coefficient for KM is -0.01641260716310576\n",
      "the coefficient for HP is 53.07807662096851\n",
      "the coefficient for Automatic is 499.4715427845762\n",
      "the coefficient for CC is -3.816600907514056\n",
      "the coefficient for Doors is 87.315582838553\n",
      "the coefficient for Quarterly_Tax is 14.167105718597462\n",
      "the coefficient for Weight is 9.169695205283336\n",
      "the coefficient for Mfr_Guarantee is 177.88058898202047\n",
      "the coefficient for BOVAG_Guarantee is 396.63423773443833\n",
      "the coefficient for Guarantee_Period is 85.5239008152449\n",
      "the coefficient for Airco is 190.54835167290162\n",
      "the coefficient for Automatic_airco is 2417.164139323831\n",
      "the coefficient for Boardcomputer is -421.96939200487486\n",
      "the coefficient for CD_Player is 196.4982237055117\n",
      "the coefficient for Powered_Windows is 391.6375401338895\n",
      "the coefficient for Sport_Model is 300.8606411989465\n",
      "the coefficient for Metallic_Rim is 238.96138902714642\n",
      "the coefficient for Fuel_Type_1 is -1515.3137719402534\n",
      "the coefficient for Fuel_Type_CNG is -3671.1577685754382\n"
     ]
    }
   ],
   "source": [
    "# let us explore the coefficients for each of the independent attributes\n",
    "for idx,col_name in enumerate(x_train.columns):\n",
    "    print(\"the coefficient for {} is {}\".format(col_name,regression_model.coef_[0][idx]))    # coefficients are stored in the array and coef_[0] is \n",
    "                                                                                             # accesing all the elements of the array"
   ]
  },
  {
   "cell_type": "code",
   "execution_count": 110,
   "metadata": {},
   "outputs": [
    {
     "data": {
      "text/plain": [
       "-25863.834885508135"
      ]
     },
     "execution_count": 110,
     "metadata": {},
     "output_type": "execute_result"
    }
   ],
   "source": [
    "# let us check the intercept for the model\n",
    "intercept=regression_model.intercept_[0]             # accessing the first element in the array\n",
    "intercept"
   ]
  },
  {
   "cell_type": "code",
   "execution_count": 111,
   "metadata": {},
   "outputs": [
    {
     "data": {
      "text/plain": [
       "0.3593487555739514"
      ]
     },
     "execution_count": 111,
     "metadata": {},
     "output_type": "execute_result"
    }
   ],
   "source": [
    "regression_model.score(x_test,y_test)  # initial R^2 value check"
   ]
  },
  {
   "cell_type": "code",
   "execution_count": 112,
   "metadata": {},
   "outputs": [
    {
     "name": "stdout",
     "output_type": "stream",
     "text": [
      "[[11528.7191962 ]\n",
      " [10381.92630293]\n",
      " [13240.62954511]\n",
      " [ 6268.14225572]\n",
      " [13080.23288048]\n",
      " [17081.53397107]\n",
      " [ 7334.38309395]\n",
      " [ 9127.97065694]\n",
      " [ 7399.4836826 ]\n",
      " [12248.88371429]]\n"
     ]
    }
   ],
   "source": [
    "y_pred=regression_model.predict(x_test)\n",
    "print(y_pred[0:10])"
   ]
  },
  {
   "cell_type": "markdown",
   "metadata": {},
   "source": [
    "# Again check RMSE and MSE after Dropping Some insignificant variables"
   ]
  },
  {
   "cell_type": "code",
   "execution_count": 113,
   "metadata": {},
   "outputs": [
    {
     "name": "stdout",
     "output_type": "stream",
     "text": [
      "MSE: 8115886.270037266\n",
      "RMSE: 2848.8394602078347\n"
     ]
    }
   ],
   "source": [
    "from math import sqrt\n",
    "from sklearn.metrics import mean_squared_error \n",
    "mse=mean_squared_error(y_test,y_pred)\n",
    "rmse=np.sqrt(mse)\n",
    "\n",
    "print('MSE:', mse)\n",
    "print('RMSE:', rmse)"
   ]
  },
  {
   "cell_type": "markdown",
   "metadata": {},
   "source": [
    "# apply Ridge Regression"
   ]
  },
  {
   "cell_type": "code",
   "execution_count": 118,
   "metadata": {},
   "outputs": [
    {
     "data": {
      "text/plain": [
       "Ridge(alpha=50, max_iter=100, tol=0.1)"
      ]
     },
     "execution_count": 118,
     "metadata": {},
     "output_type": "execute_result"
    }
   ],
   "source": [
    "from sklearn.linear_model import Ridge\n",
    "\n",
    "ridge_reg=Ridge(alpha=50,max_iter=100,tol=0.1)\n",
    "ridge_reg.fit(x_train,y_train)"
   ]
  },
  {
   "cell_type": "code",
   "execution_count": 119,
   "metadata": {},
   "outputs": [
    {
     "data": {
      "text/plain": [
       "0.7376267804483096"
      ]
     },
     "execution_count": 119,
     "metadata": {},
     "output_type": "execute_result"
    }
   ],
   "source": [
    "ridge_reg.score(x_test,y_test)"
   ]
  },
  {
   "cell_type": "markdown",
   "metadata": {},
   "source": [
    "# apply Lasso Regression"
   ]
  },
  {
   "cell_type": "code",
   "execution_count": 122,
   "metadata": {},
   "outputs": [
    {
     "data": {
      "text/plain": [
       "Lasso(alpha=50, max_iter=100, tol=0.1)"
      ]
     },
     "execution_count": 122,
     "metadata": {},
     "output_type": "execute_result"
    }
   ],
   "source": [
    "from sklearn import linear_model\n",
    "\n",
    "lasso_reg=linear_model.Lasso(alpha=50,max_iter=100,tol=0.1)\n",
    "lasso_reg.fit(x_train,y_train)"
   ]
  },
  {
   "cell_type": "code",
   "execution_count": 123,
   "metadata": {},
   "outputs": [
    {
     "data": {
      "text/plain": [
       "0.7277148624962906"
      ]
     },
     "execution_count": 123,
     "metadata": {},
     "output_type": "execute_result"
    }
   ],
   "source": [
    "lasso_reg.score(x_test,y_test)"
   ]
  },
  {
   "cell_type": "code",
   "execution_count": 124,
   "metadata": {},
   "outputs": [
    {
     "data": {
      "image/png": "[encoded data removed]",
      "text/plain": [
       "<Figure size 720x576 with 1 Axes>"
      ]
     },
     "metadata": {
      "needs_background": "light"
     },
     "output_type": "display_data"
    }
   ],
   "source": [
    "# checking the magnitude of coefficients\n",
    "from pandas import Series,DataFrame\n",
    "predictors=x_train.columns\n",
    "\n",
    "coef=Series(regression_model.coef_.flatten(),predictors).sort_values()\n",
    "plt.figure(figsize=(10,8))\n",
    "coef.plot(kind='bar',title='Model Coefficients')\n",
    "plt.show()"
   ]
  },
  {
   "cell_type": "markdown",
   "metadata": {},
   "source": [
    "# CONCLUSION\n",
    " variables showing +ve effect on regression model are Automatic_airco,Automatic,BOVAG_Guarantee,Powered_Windows,Sport_Model,Metallic_Rim,\n",
    " CD_Player,Airco,Mfg_Guarantee,Doors,Guarantee_Period,HP\n",
    "\n",
    " Higher the value of beta coefficient higher is the impact\n",
    "\n",
    " car features like the above mentioned plays an important role in the sales of used car\n",
    "\n",
    " variables showing -ve effect on regression model for predicting used car prices are:\n",
    " Fuel_Type_CNG,Fuel_Type_1,Boardcomputer,Age_08_04,Mfg_Month\n",
    "\n",
    " car price has a -ve effect on Fuel_Type,Mfg_month etc keeping all other variables constant\n",
    "\n",
    " some variables which are hardly affecting on model prediction for car price determination are CC,KM,Weight,Quaterly_Tax,Mfg_Year etc\n",
    "\n",
    "\n"
   ]
  },
  {
   "cell_type": "code",
   "execution_count": 126,
   "metadata": {},
   "outputs": [],
   "source": [
    "# Now again run OLS method to check differenet parameters\n",
    "x_with_constant=sm.add_constant(x_train)\n",
    "model1=sm.OLS(y_train,x_with_constant)"
   ]
  },
  {
   "cell_type": "code",
   "execution_count": 127,
   "metadata": {},
   "outputs": [
    {
     "data": {
      "text/plain": [
       "const                 -0.006525\n",
       "Age_08_04           -116.703286\n",
       "Mfg_Month            -88.913525\n",
       "Mfg_Year               4.054276\n",
       "KM                    -0.016413\n",
       "HP                    53.078077\n",
       "Automatic            499.471543\n",
       "CC                    -3.816601\n",
       "Doors                 87.315583\n",
       "Quarterly_Tax         14.167106\n",
       "Weight                 9.169695\n",
       "Mfr_Guarantee        177.880589\n",
       "BOVAG_Guarantee      396.634238\n",
       "Guarantee_Period      85.523901\n",
       "Airco                190.548352\n",
       "Automatic_airco     2417.164139\n",
       "Boardcomputer       -421.969392\n",
       "CD_Player            196.498224\n",
       "Powered_Windows      391.637540\n",
       "Sport_Model          300.860641\n",
       "Metallic_Rim         238.961389\n",
       "Fuel_Type_1        -1515.313772\n",
       "Fuel_Type_CNG      -3671.157769\n",
       "dtype: float64"
      ]
     },
     "execution_count": 127,
     "metadata": {},
     "output_type": "execute_result"
    }
   ],
   "source": [
    "lm1=model1.fit()\n",
    "lm1.params"
   ]
  },
  {
   "cell_type": "code",
   "execution_count": 128,
   "metadata": {},
   "outputs": [
    {
     "name": "stdout",
     "output_type": "stream",
     "text": [
      "                            OLS Regression Results                            \n",
      "==============================================================================\n",
      "Dep. Variable:                  Price   R-squared:                       0.909\n",
      "Model:                            OLS   Adj. R-squared:                  0.907\n",
      "Method:                 Least Squares   F-statistic:                     466.1\n",
      "Date:                Sun, 11 Jul 2021   Prob (F-statistic):               0.00\n",
      "Time:                        14:13:21   Log-Likelihood:                -8467.5\n",
      "No. Observations:                1005   AIC:                         1.698e+04\n",
      "Df Residuals:                     983   BIC:                         1.709e+04\n",
      "Df Model:                          21                                         \n",
      "Covariance Type:            nonrobust                                         \n",
      "====================================================================================\n",
      "                       coef    std err          t      P>|t|      [0.025      0.975]\n",
      "------------------------------------------------------------------------------------\n",
      "const               -0.0065      0.001    -11.309      0.000      -0.008      -0.005\n",
      "Age_08_04         -116.7033      3.834    -30.437      0.000    -124.228    -109.179\n",
      "Mfg_Month          -88.9135     10.826     -8.213      0.000    -110.159     -67.668\n",
      "Mfg_Year             4.0543      0.762      5.322      0.000       2.559       5.549\n",
      "KM                  -0.0164      0.001    -12.023      0.000      -0.019      -0.014\n",
      "HP                  53.0781      5.755      9.222      0.000      41.784      64.372\n",
      "Automatic          499.4715    154.682      3.229      0.001     195.926     803.017\n",
      "CC                  -3.8166      0.560     -6.820      0.000      -4.915      -2.718\n",
      "Doors               87.3156     42.267      2.066      0.039       4.371     170.260\n",
      "Quarterly_Tax       14.1671      1.762      8.039      0.000      10.709      17.625\n",
      "Weight               9.1697      1.225      7.485      0.000       6.766      11.574\n",
      "Mfr_Guarantee      177.8806     77.094      2.307      0.021      26.592     329.169\n",
      "BOVAG_Guarantee    396.6342    131.423      3.018      0.003     138.733     654.535\n",
      "Guarantee_Period    85.5239     13.427      6.369      0.000      59.175     111.873\n",
      "Airco              190.5484     91.012      2.094      0.037      11.949     369.148\n",
      "Automatic_airco   2417.1641    185.428     13.036      0.000    2053.284    2781.044\n",
      "Boardcomputer     -421.9694    118.944     -3.548      0.000    -655.383    -188.555\n",
      "CD_Player          196.4982    103.053      1.907      0.057      -5.731     398.728\n",
      "Powered_Windows    391.6375     88.525      4.424      0.000     217.918     565.357\n",
      "Sport_Model        300.8606     85.126      3.534      0.000     133.810     467.911\n",
      "Metallic_Rim       238.9614     95.091      2.513      0.012      52.357     425.566\n",
      "Fuel_Type_1      -1515.3138    471.303     -3.215      0.001   -2440.189    -590.438\n",
      "Fuel_Type_CNG    -3671.1578    537.411     -6.831      0.000   -4725.763   -2616.553\n",
      "==============================================================================\n",
      "Omnibus:                       98.492   Durbin-Watson:                   2.006\n",
      "Prob(Omnibus):                  0.000   Jarque-Bera (JB):              641.205\n",
      "Skew:                           0.108   Prob(JB):                    5.81e-140\n",
      "Kurtosis:                       6.907   Cond. No.                     8.38e+21\n",
      "==============================================================================\n",
      "\n",
      "Warnings:\n",
      "[1] Standard Errors assume that the covariance matrix of the errors is correctly specified.\n",
      "[2] The smallest eigenvalue is 8.48e-32. This might indicate that there are\n",
      "strong multicollinearity problems or that the design matrix is singular.\n"
     ]
    }
   ],
   "source": [
    "print(lm1.summary())"
   ]
  },
  {
   "cell_type": "markdown",
   "metadata": {},
   "source": [
    "# Further checking variation Inflation Factor"
   ]
  },
  {
   "cell_type": "code",
   "execution_count": 129,
   "metadata": {},
   "outputs": [],
   "source": [
    "# import statistical model\n",
    "from statsmodels.stats.outliers_influence import variance_inflation_factor\n",
    "import warnings\n",
    "import statsmodels.tsa.api as smt\n",
    "import statsmodels.api as sm\n",
    "warnings.filterwarnings('ignore')\n",
    "%matplotlib inline"
   ]
  },
  {
   "cell_type": "code",
   "execution_count": 130,
   "metadata": {},
   "outputs": [],
   "source": [
    "x_test=sm.add_constant(x_test)"
   ]
  },
  {
   "cell_type": "code",
   "execution_count": 131,
   "metadata": {},
   "outputs": [],
   "source": [
    "y_pred=lm1.predict(x_test)"
   ]
  },
  {
   "cell_type": "code",
   "execution_count": 132,
   "metadata": {},
   "outputs": [],
   "source": [
    "residual=y_test-y_pred"
   ]
  },
  {
   "cell_type": "code",
   "execution_count": 133,
   "metadata": {},
   "outputs": [
    {
     "data": {
      "text/html": [
       "<div>\n",
       "<style scoped>\n",
       "    .dataframe tbody tr th:only-of-type {\n",
       "        vertical-align: middle;\n",
       "    }\n",
       "\n",
       "    .dataframe tbody tr th {\n",
       "        vertical-align: top;\n",
       "    }\n",
       "\n",
       "    .dataframe thead th {\n",
       "        text-align: right;\n",
       "    }\n",
       "</style>\n",
       "<table border=\"1\" class=\"dataframe\">\n",
       "  <thead>\n",
       "    <tr style=\"text-align: right;\">\n",
       "      <th></th>\n",
       "      <th>vif</th>\n",
       "    </tr>\n",
       "  </thead>\n",
       "  <tbody>\n",
       "    <tr>\n",
       "      <th>Age_08_04</th>\n",
       "      <td>41.027388</td>\n",
       "    </tr>\n",
       "    <tr>\n",
       "      <th>Mfg_Month</th>\n",
       "      <td>4.030133</td>\n",
       "    </tr>\n",
       "    <tr>\n",
       "      <th>Mfg_Year</th>\n",
       "      <td>1872.739901</td>\n",
       "    </tr>\n",
       "    <tr>\n",
       "      <th>KM</th>\n",
       "      <td>2.063813</td>\n",
       "    </tr>\n",
       "    <tr>\n",
       "      <th>HP</th>\n",
       "      <td>5.840968</td>\n",
       "    </tr>\n",
       "    <tr>\n",
       "      <th>Automatic</th>\n",
       "      <td>1.083886</td>\n",
       "    </tr>\n",
       "    <tr>\n",
       "      <th>CC</th>\n",
       "      <td>8.485855</td>\n",
       "    </tr>\n",
       "    <tr>\n",
       "      <th>Doors</th>\n",
       "      <td>1.303190</td>\n",
       "    </tr>\n",
       "    <tr>\n",
       "      <th>Quarterly_Tax</th>\n",
       "      <td>4.035207</td>\n",
       "    </tr>\n",
       "    <tr>\n",
       "      <th>Weight</th>\n",
       "      <td>3.522015</td>\n",
       "    </tr>\n",
       "    <tr>\n",
       "      <th>Mfr_Guarantee</th>\n",
       "      <td>1.160158</td>\n",
       "    </tr>\n",
       "    <tr>\n",
       "      <th>BOVAG_Guarantee</th>\n",
       "      <td>1.325930</td>\n",
       "    </tr>\n",
       "    <tr>\n",
       "      <th>Guarantee_Period</th>\n",
       "      <td>1.305051</td>\n",
       "    </tr>\n",
       "    <tr>\n",
       "      <th>Airco</th>\n",
       "      <td>1.670671</td>\n",
       "    </tr>\n",
       "    <tr>\n",
       "      <th>Automatic_airco</th>\n",
       "      <td>1.533253</td>\n",
       "    </tr>\n",
       "    <tr>\n",
       "      <th>Boardcomputer</th>\n",
       "      <td>2.395230</td>\n",
       "    </tr>\n",
       "    <tr>\n",
       "      <th>CD_Player</th>\n",
       "      <td>1.479632</td>\n",
       "    </tr>\n",
       "    <tr>\n",
       "      <th>Powered_Windows</th>\n",
       "      <td>1.550730</td>\n",
       "    </tr>\n",
       "    <tr>\n",
       "      <th>Sport_Model</th>\n",
       "      <td>1.217416</td>\n",
       "    </tr>\n",
       "    <tr>\n",
       "      <th>Metallic_Rim</th>\n",
       "      <td>1.193363</td>\n",
       "    </tr>\n",
       "    <tr>\n",
       "      <th>Fuel_Type_1</th>\n",
       "      <td>17.610868</td>\n",
       "    </tr>\n",
       "    <tr>\n",
       "      <th>Fuel_Type_CNG</th>\n",
       "      <td>2.295918</td>\n",
       "    </tr>\n",
       "  </tbody>\n",
       "</table>\n",
       "</div>"
      ],
      "text/plain": [
       "                          vif\n",
       "Age_08_04           41.027388\n",
       "Mfg_Month            4.030133\n",
       "Mfg_Year          1872.739901\n",
       "KM                   2.063813\n",
       "HP                   5.840968\n",
       "Automatic            1.083886\n",
       "CC                   8.485855\n",
       "Doors                1.303190\n",
       "Quarterly_Tax        4.035207\n",
       "Weight               3.522015\n",
       "Mfr_Guarantee        1.160158\n",
       "BOVAG_Guarantee      1.325930\n",
       "Guarantee_Period     1.305051\n",
       "Airco                1.670671\n",
       "Automatic_airco      1.533253\n",
       "Boardcomputer        2.395230\n",
       "CD_Player            1.479632\n",
       "Powered_Windows      1.550730\n",
       "Sport_Model          1.217416\n",
       "Metallic_Rim         1.193363\n",
       "Fuel_Type_1         17.610868\n",
       "Fuel_Type_CNG        2.295918"
      ]
     },
     "execution_count": 133,
     "metadata": {},
     "output_type": "execute_result"
    }
   ],
   "source": [
    "# check multicolinearity and VIF\n",
    "vif=[variance_inflation_factor(x_train.values,i) for i in range(x_train.shape[1])]\n",
    "pd.DataFrame({'vif':vif[0:]},index=x_train.columns)"
   ]
  },
  {
   "cell_type": "code",
   "execution_count": 134,
   "metadata": {},
   "outputs": [
    {
     "data": {
      "text/html": [
       "<div>\n",
       "<style scoped>\n",
       "    .dataframe tbody tr th:only-of-type {\n",
       "        vertical-align: middle;\n",
       "    }\n",
       "\n",
       "    .dataframe tbody tr th {\n",
       "        vertical-align: top;\n",
       "    }\n",
       "\n",
       "    .dataframe thead th {\n",
       "        text-align: right;\n",
       "    }\n",
       "</style>\n",
       "<table border=\"1\" class=\"dataframe\">\n",
       "  <thead>\n",
       "    <tr style=\"text-align: right;\">\n",
       "      <th></th>\n",
       "      <th>Price</th>\n",
       "      <th>Age_08_04</th>\n",
       "      <th>Mfg_Month</th>\n",
       "      <th>Mfg_Year</th>\n",
       "      <th>KM</th>\n",
       "      <th>HP</th>\n",
       "      <th>Automatic</th>\n",
       "      <th>CC</th>\n",
       "      <th>Doors</th>\n",
       "      <th>Quarterly_Tax</th>\n",
       "      <th>...</th>\n",
       "      <th>Guarantee_Period</th>\n",
       "      <th>Airco</th>\n",
       "      <th>Automatic_airco</th>\n",
       "      <th>Boardcomputer</th>\n",
       "      <th>CD_Player</th>\n",
       "      <th>Powered_Windows</th>\n",
       "      <th>Sport_Model</th>\n",
       "      <th>Metallic_Rim</th>\n",
       "      <th>Fuel_Type_1</th>\n",
       "      <th>Fuel_Type_CNG</th>\n",
       "    </tr>\n",
       "  </thead>\n",
       "  <tbody>\n",
       "    <tr>\n",
       "      <th>0</th>\n",
       "      <td>13500</td>\n",
       "      <td>23</td>\n",
       "      <td>10</td>\n",
       "      <td>2002</td>\n",
       "      <td>46986</td>\n",
       "      <td>90</td>\n",
       "      <td>0</td>\n",
       "      <td>2000</td>\n",
       "      <td>3</td>\n",
       "      <td>210</td>\n",
       "      <td>...</td>\n",
       "      <td>3</td>\n",
       "      <td>0</td>\n",
       "      <td>0</td>\n",
       "      <td>1</td>\n",
       "      <td>0</td>\n",
       "      <td>1</td>\n",
       "      <td>0</td>\n",
       "      <td>0</td>\n",
       "      <td>0</td>\n",
       "      <td>0</td>\n",
       "    </tr>\n",
       "    <tr>\n",
       "      <th>1</th>\n",
       "      <td>13750</td>\n",
       "      <td>23</td>\n",
       "      <td>10</td>\n",
       "      <td>2002</td>\n",
       "      <td>72937</td>\n",
       "      <td>90</td>\n",
       "      <td>0</td>\n",
       "      <td>2000</td>\n",
       "      <td>3</td>\n",
       "      <td>210</td>\n",
       "      <td>...</td>\n",
       "      <td>3</td>\n",
       "      <td>1</td>\n",
       "      <td>0</td>\n",
       "      <td>1</td>\n",
       "      <td>1</td>\n",
       "      <td>0</td>\n",
       "      <td>0</td>\n",
       "      <td>0</td>\n",
       "      <td>0</td>\n",
       "      <td>0</td>\n",
       "    </tr>\n",
       "    <tr>\n",
       "      <th>2</th>\n",
       "      <td>13950</td>\n",
       "      <td>24</td>\n",
       "      <td>9</td>\n",
       "      <td>2002</td>\n",
       "      <td>41711</td>\n",
       "      <td>90</td>\n",
       "      <td>0</td>\n",
       "      <td>2000</td>\n",
       "      <td>3</td>\n",
       "      <td>210</td>\n",
       "      <td>...</td>\n",
       "      <td>3</td>\n",
       "      <td>0</td>\n",
       "      <td>0</td>\n",
       "      <td>1</td>\n",
       "      <td>0</td>\n",
       "      <td>0</td>\n",
       "      <td>0</td>\n",
       "      <td>0</td>\n",
       "      <td>0</td>\n",
       "      <td>0</td>\n",
       "    </tr>\n",
       "    <tr>\n",
       "      <th>3</th>\n",
       "      <td>14950</td>\n",
       "      <td>26</td>\n",
       "      <td>7</td>\n",
       "      <td>2002</td>\n",
       "      <td>48000</td>\n",
       "      <td>90</td>\n",
       "      <td>0</td>\n",
       "      <td>2000</td>\n",
       "      <td>3</td>\n",
       "      <td>210</td>\n",
       "      <td>...</td>\n",
       "      <td>3</td>\n",
       "      <td>0</td>\n",
       "      <td>0</td>\n",
       "      <td>1</td>\n",
       "      <td>0</td>\n",
       "      <td>0</td>\n",
       "      <td>0</td>\n",
       "      <td>0</td>\n",
       "      <td>0</td>\n",
       "      <td>0</td>\n",
       "    </tr>\n",
       "    <tr>\n",
       "      <th>4</th>\n",
       "      <td>13750</td>\n",
       "      <td>30</td>\n",
       "      <td>3</td>\n",
       "      <td>2002</td>\n",
       "      <td>38500</td>\n",
       "      <td>90</td>\n",
       "      <td>0</td>\n",
       "      <td>2000</td>\n",
       "      <td>3</td>\n",
       "      <td>210</td>\n",
       "      <td>...</td>\n",
       "      <td>3</td>\n",
       "      <td>1</td>\n",
       "      <td>0</td>\n",
       "      <td>1</td>\n",
       "      <td>0</td>\n",
       "      <td>1</td>\n",
       "      <td>0</td>\n",
       "      <td>0</td>\n",
       "      <td>0</td>\n",
       "      <td>0</td>\n",
       "    </tr>\n",
       "  </tbody>\n",
       "</table>\n",
       "<p>5 rows × 23 columns</p>\n",
       "</div>"
      ],
      "text/plain": [
       "   Price  Age_08_04  Mfg_Month  Mfg_Year     KM  HP  Automatic    CC  Doors  \\\n",
       "0  13500         23         10      2002  46986  90          0  2000      3   \n",
       "1  13750         23         10      2002  72937  90          0  2000      3   \n",
       "2  13950         24          9      2002  41711  90          0  2000      3   \n",
       "3  14950         26          7      2002  48000  90          0  2000      3   \n",
       "4  13750         30          3      2002  38500  90          0  2000      3   \n",
       "\n",
       "   Quarterly_Tax  ...  Guarantee_Period  Airco  Automatic_airco  \\\n",
       "0            210  ...                 3      0                0   \n",
       "1            210  ...                 3      1                0   \n",
       "2            210  ...                 3      0                0   \n",
       "3            210  ...                 3      0                0   \n",
       "4            210  ...                 3      1                0   \n",
       "\n",
       "   Boardcomputer  CD_Player  Powered_Windows  Sport_Model  Metallic_Rim  \\\n",
       "0              1          0                1            0             0   \n",
       "1              1          1                0            0             0   \n",
       "2              1          0                0            0             0   \n",
       "3              1          0                0            0             0   \n",
       "4              1          0                1            0             0   \n",
       "\n",
       "   Fuel_Type_1  Fuel_Type_CNG  \n",
       "0            0              0  \n",
       "1            0              0  \n",
       "2            0              0  \n",
       "3            0              0  \n",
       "4            0              0  \n",
       "\n",
       "[5 rows x 23 columns]"
      ]
     },
     "execution_count": 134,
     "metadata": {},
     "output_type": "execute_result"
    }
   ],
   "source": [
    "used_car_df.head()"
   ]
  },
  {
   "cell_type": "code",
   "execution_count": 135,
   "metadata": {},
   "outputs": [],
   "source": [
    "# the variables which has VIF>10 will have collinear effect\n"
   ]
  },
  {
   "cell_type": "markdown",
   "metadata": {},
   "source": [
    "# normality of Residual"
   ]
  },
  {
   "cell_type": "code",
   "execution_count": null,
   "metadata": {},
   "outputs": [],
   "source": [
    "#sns.distplot(residual)     "
   ]
  },
  {
   "cell_type": "code",
   "execution_count": null,
   "metadata": {},
   "outputs": [],
   "source": [
    "#fig,ax=plt.subplots(figsize=(6,2.5))\n",
    "#_, (__, __, r)=sp.stats.probplot(residual,plot=ax,fit=True)"
   ]
  },
  {
   "cell_type": "code",
   "execution_count": null,
   "metadata": {},
   "outputs": [],
   "source": [
    "#fig,ax = plt.subplots(figsize=(6,2.5))\n",
    "#_ = ax.scatter(y_pred,residual)"
   ]
  },
  {
   "cell_type": "markdown",
   "metadata": {},
   "source": [
    "# References\n",
    "http://ripublication.com/irph/ijict_spl/ijictv4n7spl_17.pdf"
   ]
  },
  {
   "cell_type": "code",
   "execution_count": null,
   "metadata": {},
   "outputs": [],
   "source": []
  }
 ],
 "metadata": {
  "kernelspec": {
   "display_name": "Python 3",
   "language": "python",
   "name": "python3"
  },
  "language_info": {
   "codemirror_mode": {
    "name": "ipython",
    "version": 3
   },
   "file_extension": ".py",
   "mimetype": "text/x-python",
   "name": "python",
   "nbconvert_exporter": "python",
   "pygments_lexer": "ipython3",
   "version": "3.8.3"
  }
 },
 "nbformat": 4,
 "nbformat_minor": 4
}
